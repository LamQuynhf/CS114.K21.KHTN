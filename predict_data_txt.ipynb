{
  "nbformat": 4,
  "nbformat_minor": 0,
  "metadata": {
    "colab": {
      "name": "predict_data_txt.ipynb",
      "provenance": [],
      "collapsed_sections": [],
      "toc_visible": true,
      "mount_file_id": "1UGdxl-5usRaCO9DPygCEa65PZv18kvSt",
      "authorship_tag": "ABX9TyNlER8L+29rEdd2x/IdI3+t",
      "include_colab_link": true
    },
    "kernelspec": {
      "name": "python3",
      "display_name": "Python 3"
    },
    "accelerator": "GPU"
  },
  "cells": [
    {
      "cell_type": "markdown",
      "metadata": {
        "id": "view-in-github",
        "colab_type": "text"
      },
      "source": [
        "<a href=\"https://colab.research.google.com/github/LamQuynhf/CS114.K21.KHTN/blob/master/predict_data_txt.ipynb\" target=\"_parent\"><img src=\"https://colab.research.google.com/assets/colab-badge.svg\" alt=\"Open In Colab\"/></a>"
      ]
    },
    {
      "cell_type": "code",
      "metadata": {
        "id": "vNcHyzIsXwqH",
        "colab_type": "code",
        "colab": {}
      },
      "source": [
        "import numpy as np\n",
        "import pandas as pd\n",
        "from sklearn.model_selection import train_test_split\n",
        "from sklearn.linear_model import LinearRegression\n",
        "import tensorflow as tf\n",
        "from tensorflow import keras\n",
        "import matplotlib.pyplot as plt\n",
        "import pickle"
      ],
      "execution_count": 0,
      "outputs": []
    },
    {
      "cell_type": "markdown",
      "metadata": {
        "id": "E6QiBlb2aIu5",
        "colab_type": "text"
      },
      "source": [
        "## Lấy dữ liệu xuống\n",
        "Dùng lệnh wget "
      ]
    },
    {
      "cell_type": "code",
      "metadata": {
        "id": "6YEDkFJMnU-F",
        "colab_type": "code",
        "colab": {}
      },
      "source": [
        "data=!wget http://cs.uit.edu.vn/data2.txt"
      ],
      "execution_count": 0,
      "outputs": []
    },
    {
      "cell_type": "code",
      "metadata": {
        "id": "F4_8QzHJoRzp",
        "colab_type": "code",
        "outputId": "d1ed4289-e3d9-4ddc-ee8b-34c2bd3ba2e2",
        "colab": {
          "base_uri": "https://localhost:8080/",
          "height": 118
        }
      },
      "source": [
        "\n",
        "data=pd.read_csv('data2.txt')\n",
        "data.columns=['x','y']\n",
        "print(data.head())\n",
        "# print(data['y'])"
      ],
      "execution_count": 0,
      "outputs": [
        {
          "output_type": "stream",
          "text": [
            "         x         y\n",
            "0  1954367  0.152648\n",
            "1  3734185  0.298548\n",
            "2  5839301  0.460480\n",
            "3  6343427  0.527977\n",
            "4  1355574  0.098012\n"
          ],
          "name": "stdout"
        }
      ]
    },
    {
      "cell_type": "markdown",
      "metadata": {
        "id": "68AtGHjgafvh",
        "colab_type": "text"
      },
      "source": [
        "## Chon model\n",
        "### Bài toán với đầu vào là các số nguyên và đầu ra là các giá trị liên tục, nên chọn Linear Regreesion một biến\n",
        "\n",
        "## Train model\n",
        "###Sử dụng thư viện sklearn với hàm .fit()\n",
        "\n",
        "##Predict dữ liệu\n",
        "###Sử dụng thư viện sklearn với hàm .predict với đầu vào là giá trị kiểm thử\n",
        "\n",
        "##Đánh giá model\n",
        "###Sử dụng hàm score để đánh giá kết quả dự đoán model với đầu vào là tập kiểm thử và nhãn của nó.\n",
        "###được xác định bằng (1 - u/v) trong đó u=((ytrue - ypred) ** 2).sum()\n",
        "###,v=((ytrue - ytrue.mean()) ** 2).sum()\n",
        "### với v xác định thì nếu ypred càng gần ytrue thì u càng nhỏ, dẫn tới u/v càng nhỏ, dẫn tới score() sẽ tăng => model được xây dựng tốt khi có score~0,997\n"
      ]
    },
    {
      "cell_type": "code",
      "metadata": {
        "id": "iXdjS-jqpPRV",
        "colab_type": "code",
        "outputId": "05203d0c-350f-4915-e2cf-236276fdfb35",
        "colab": {
          "base_uri": "https://localhost:8080/",
          "height": 312
        }
      },
      "source": [
        "\n",
        "model=LinearRegression()\n",
        "x_train, x_test, y_train, y_test = train_test_split(data['x'], data['y'], test_size=0.2, random_state=42)\n",
        "x_train= np.array(x_train).reshape(-1, 1)\n",
        "y_train= np.array(y_train).reshape(-1, 1)\n",
        "x_test = np.array(x_test).reshape(-1, 1)\n",
        "y_test=np.array(y_test).reshape(-1,1)\n",
        "print(len(x_train),len(y_train),len(x_test),len(y_test))\n",
        "model.fit(x_train,y_train)\n",
        "y_predict=model.predict(x_test)\n",
        "print(model.score(x_test,y_test))\n",
        "# accuracy_score(y_test, y_predict, normalize=False)\n",
        "# accuracy_score(y_test, y_predict) \n",
        "plt.scatter(x_test, y_test, color ='b') \n",
        "plt.plot(x_test, y_predict, color ='k') \n",
        "plt.show() "
      ],
      "execution_count": 0,
      "outputs": [
        {
          "output_type": "stream",
          "text": [
            "56891 56891 14223 14223\n",
            "0.9975476238521903\n"
          ],
          "name": "stdout"
        },
        {
          "output_type": "display_data",
          "data": {
            "image/png": "[encoded data removed]",
            "text/plain": [
              "<Figure size 432x288 with 1 Axes>"
            ]
          },
          "metadata": {
            "tags": [],
            "needs_background": "light"
          }
        }
      ]
    },
    {
      "cell_type": "markdown",
      "metadata": {
        "id": "cPX9fA0mlpPV",
        "colab_type": "text"
      },
      "source": [
        "##Lưu model\n"
      ]
    },
    {
      "cell_type": "code",
      "metadata": {
        "id": "6Pc2-mWyiy98",
        "colab_type": "code",
        "colab": {}
      },
      "source": [
        "filename='Regressor_model.sav'"
      ],
      "execution_count": 0,
      "outputs": []
    },
    {
      "cell_type": "code",
      "metadata": {
        "id": "l1UT0bnQjTAD",
        "colab_type": "code",
        "colab": {}
      },
      "source": [
        "pickle.dump(model, open(filename, 'wb'))\n"
      ],
      "execution_count": 0,
      "outputs": []
    },
    {
      "cell_type": "code",
      "metadata": {
        "id": "CtalaAOSlZY3",
        "colab_type": "code",
        "outputId": "063b99ee-ebb8-4e31-8fb8-5a41576bfffd",
        "colab": {
          "base_uri": "https://localhost:8080/",
          "height": 34
        }
      },
      "source": [
        "load_lr_model =pickle.load(open(filename, 'rb'))\n",
        "load_lr_model.coef_"
      ],
      "execution_count": 0,
      "outputs": [
        {
          "output_type": "execute_result",
          "data": {
            "text/plain": [
              "array([[8.45531952e-08]])"
            ]
          },
          "metadata": {
            "tags": []
          },
          "execution_count": 43
        }
      ]
    },
    {
      "cell_type": "markdown",
      "metadata": {
        "id": "JEzj6lunly_d",
        "colab_type": "text"
      },
      "source": [
        "##Đánh giá lại model với dataset mới"
      ]
    },
    {
      "cell_type": "code",
      "metadata": {
        "id": "K-K4iyA-lkzJ",
        "colab_type": "code",
        "colab": {}
      },
      "source": [
        "new_data=!wget  http://cs.uit.edu.vn/data3.txt"
      ],
      "execution_count": 0,
      "outputs": []
    },
    {
      "cell_type": "code",
      "metadata": {
        "id": "tQOh7OJ3l9p3",
        "colab_type": "code",
        "outputId": "d4563df2-7711-4764-d173-f4ac685567d8",
        "colab": {
          "base_uri": "https://localhost:8080/",
          "height": 118
        }
      },
      "source": [
        "new_data=pd.read_csv('data3.txt')\n",
        "new_data.columns=['x3','y3']\n",
        "print(new_data.head())"
      ],
      "execution_count": 0,
      "outputs": [
        {
          "output_type": "stream",
          "text": [
            "         x3       y3\n",
            "0  37395246  3.92089\n",
            "1  36610827  3.21540\n",
            "2  29555651  2.54506\n",
            "3  25928216  2.21831\n",
            "4  30423112  2.61376\n"
          ],
          "name": "stdout"
        }
      ]
    },
    {
      "cell_type": "code",
      "metadata": {
        "id": "Dpg-XxdUmCsf",
        "colab_type": "code",
        "colab": {}
      },
      "source": [
        "x_test3=np.array(new_data['x3']).reshape(-1,1)\n",
        "y_test3=np.array(new_data['y3']).reshape(-1,1)"
      ],
      "execution_count": 0,
      "outputs": []
    },
    {
      "cell_type": "code",
      "metadata": {
        "id": "gpPUMJedp0qu",
        "colab_type": "code",
        "colab": {}
      },
      "source": [
        "y_predict3=model.predict(x_test3)"
      ],
      "execution_count": 0,
      "outputs": []
    },
    {
      "cell_type": "code",
      "metadata": {
        "id": "QMIJLRb1qbdd",
        "colab_type": "code",
        "outputId": "33db736d-7744-4ea3-a0ae-8a6ec5e61cc5",
        "colab": {
          "base_uri": "https://localhost:8080/",
          "height": 295
        }
      },
      "source": [
        "plt.scatter(x_test3,y_test3,color='k')\n",
        "plt.plot(x_test3,y_predict3,color='b')\n",
        "plt.show()\n",
        "print(model.score(x_test3,y_test3))"
      ],
      "execution_count": 0,
      "outputs": [
        {
          "output_type": "display_data",
          "data": {
            "image/png": "[encoded data removed]",
            "text/plain": [
              "<Figure size 432x288 with 1 Axes>"
            ]
          },
          "metadata": {
            "tags": [],
            "needs_background": "light"
          }
        },
        {
          "output_type": "stream",
          "text": [
            "0.9285625391530936\n"
          ],
          "name": "stdout"
        }
      ]
    },
    {
      "cell_type": "code",
      "metadata": {
        "id": "AePScTGpqp-N",
        "colab_type": "code",
        "colab": {}
      },
      "source": [
        ""
      ],
      "execution_count": 0,
      "outputs": []
    },
    {
      "cell_type": "markdown",
      "metadata": {
        "id": "zwp25e5hq5r9",
        "colab_type": "text"
      },
      "source": [
        "##Đánh giá:\n",
        "###Kết quả tệ hơn data cũ nhưng vẫn tốt, vấn đề ở đây là do dataset mới đưa vào không phù hợp với trainset\n"
      ]
    },
    {
      "cell_type": "markdown",
      "metadata": {
        "id": "lMrt0_blrqk8",
        "colab_type": "text"
      },
      "source": [
        "##Xây dựng model mới và ứng dụng dự báo mới sử dụng phương pháp tăng số features đã gợi ý trên lớp."
      ]
    },
    {
      "cell_type": "code",
      "metadata": {
        "id": "V8i_A4eOrlGq",
        "colab_type": "code",
        "colab": {}
      },
      "source": [
        "def agument_data(trainX):\n",
        "    X = []\n",
        "    for data in trainX:\n",
        "        x = data[0]**2\n",
        "        y = data[0]*math.log(data[0])\n",
        "        data=list(data)\n",
        "        data.append(x)\n",
        "        data.append(y)\n",
        "        X.append(data)\n",
        "    return np.array(X)"
      ],
      "execution_count": 0,
      "outputs": []
    },
    {
      "cell_type": "code",
      "metadata": {
        "id": "REistiwgspjy",
        "colab_type": "code",
        "outputId": "97f9ecd3-677e-46c6-bf29-6b0294dba556",
        "colab": {
          "base_uri": "https://localhost:8080/",
          "height": 134
        }
      },
      "source": [
        "trainx=np.array(data['x']).reshape(-1,1)\n",
        "trainx=agument_data(trainx)\n",
        "print(trainx)\n",
        "trainy=np.array(data['y']).reshape(-1,1)"
      ],
      "execution_count": 0,
      "outputs": [
        {
          "output_type": "stream",
          "text": [
            "[[1.95436700e+06 3.81955037e+12 2.83101335e+07]\n",
            " [3.73418500e+06 1.39441376e+13 5.65095715e+07]\n",
            " [5.83930100e+06 3.40974362e+13 9.09770200e+07]\n",
            " ...\n",
            " [9.83736400e+06 9.67737305e+13 1.58398268e+08]\n",
            " [9.46659300e+06 8.96163830e+13 1.52064531e+08]\n",
            " [4.08080100e+06 1.66529368e+13 6.21171524e+07]]\n"
          ],
          "name": "stdout"
        }
      ]
    },
    {
      "cell_type": "code",
      "metadata": {
        "id": "noZXkQ-Z4k-p",
        "colab_type": "code",
        "colab": {}
      },
      "source": [
        "xtrain,xtest,ytrain,ytest=train_test_split(trainx,trainy,test_size=0.2,random_state=42)\n",
        "new_model=LinearRegression()\n",
        "new_model.fit(xtrain,ytrain)\n",
        "predicty=new_model.predict(xtest)\n"
      ],
      "execution_count": 0,
      "outputs": []
    },
    {
      "cell_type": "code",
      "metadata": {
        "id": "5vFZovtQ5kVG",
        "colab_type": "code",
        "outputId": "5ff5a416-a856-4a96-a5a8-522e5618800d",
        "colab": {
          "base_uri": "https://localhost:8080/",
          "height": 34
        }
      },
      "source": [
        "print(new_model.score(xtest,ytest))\n",
        "\n"
      ],
      "execution_count": 0,
      "outputs": [
        {
          "output_type": "stream",
          "text": [
            "0.9979113745801343\n"
          ],
          "name": "stdout"
        }
      ]
    },
    {
      "cell_type": "markdown",
      "metadata": {
        "id": "1fLJAmq-73be",
        "colab_type": "text"
      },
      "source": [
        "##model mới có hiệu suất cao hơn model cũ\n",
        "###Ở trường hợp này với nhiều feature hơn thì sự tương quan giữa label và feature sẽ tăng, dẫn đến việc dự đoán kết quả sẽ tốt hơn."
      ]
    },
    {
      "cell_type": "code",
      "metadata": {
        "id": "zz4o7USV6wk8",
        "colab_type": "code",
        "colab": {}
      },
      "source": [
        ""
      ],
      "execution_count": 0,
      "outputs": []
    }
  ]
}