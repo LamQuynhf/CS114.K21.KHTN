{
  "nbformat": 4,
  "nbformat_minor": 0,
  "metadata": {
    "colab": {
      "name": "Computer_ thinking.ipynb",
      "provenance": [],
      "authorship_tag": "ABX9TyOlUdIVngzy00/nho/joKUY",
      "include_colab_link": true
    },
    "kernelspec": {
      "name": "python3",
      "display_name": "Python 3"
    }
  },
  "cells": [
    {
      "cell_type": "markdown",
      "metadata": {
        "id": "view-in-github",
        "colab_type": "text"
      },
      "source": [
        "<a href=\"https://colab.research.google.com/github/LamQuynhf/CS114.K21.KHTN/blob/master/Computer__thinking_decompose.ipynb\" target=\"_parent\"><img src=\"https://colab.research.google.com/assets/colab-badge.svg\" alt=\"Open In Colab\"/></a>"
      ]
    },
    {
      "cell_type": "code",
      "metadata": {
        "id": "aurls4K8qAns",
        "colab_type": "code",
        "colab": {}
      },
      "source": [
        "## Decompose:\n",
        "### Decompose là phân rã bài tóan đã cho thành các bài toán nhỏ. Vậy phân rã đến khi nào là đủ ? Việc phân rã sẽ dừng khi nó trở thành các bài toán mà mình đã gặp trước đó, để có thể vận dụng những kiến thức đã học giải quyết vấn đề. Bạn tưởng tượng như bạn đang có một hệ thống được làm bằng các bộ phận chuyển động thì việc phân rã sẽ xem xét nó theo từng bộ phận cụ thể. Các bộ phận sẽ cho ta biết đặc trưng về hình dạng, cấu tạo, thành phần, công dụng...  Dựa vào đó bạn có thể tối ưu hóa quy trình, hợp lí hóa thiết kế và cải tiến thêm một số chức năng khác. Thế nên Decompose là một giai đoạn cực kì quan trọng trong giải quyết vấn đề, nó giúp đưa ra lời giải nhanh nhất.\n"
      ],
      "execution_count": null,
      "outputs": []
    }
  ]
}