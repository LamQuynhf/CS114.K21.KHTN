{
  "nbformat": 4,
  "nbformat_minor": 0,
  "metadata": {
    "colab": {
      "name": "Copy of describe.ipynb",
      "provenance": [],
      "collapsed_sections": [],
      "authorship_tag": "ABX9TyObSJPgOIBfY6N8kKja9d/r",
      "include_colab_link": true
    },
    "kernelspec": {
      "name": "python3",
      "display_name": "Python 3"
    }
  },
  "cells": [
    {
      "cell_type": "markdown",
      "metadata": {
        "id": "view-in-github",
        "colab_type": "text"
      },
      "source": [
        "<a href=\"https://colab.research.google.com/github/LamQuynhf/CS114.K21.KHTN/blob/master/Copy_of_describe.ipynb\" target=\"_parent\"><img src=\"https://colab.research.google.com/assets/colab-badge.svg\" alt=\"Open In Colab\"/></a>"
      ]
    },
    {
      "cell_type": "markdown",
      "metadata": {
        "id": "83OZw2K_u0P7",
        "colab_type": "text"
      },
      "source": [
        "# Mô tả đồ án cuối kì\n",
        "## 1.Input,Output\n",
        "###Đây là bài toán nhận diện hướng của bàn tay áp dụng vào bài toán \"Rắn săn mồi\". Thay vì việc sử dụng các phím mũi tên lên, xuống, trái, phải, em tạo ra một model ML với input là bàn tay với 4 hướng (lên, xuống, trái, phải) tương ứng với các hướng di chuyển của rắn. Output là xác định hướng đi của rắn tương ứng với các hướng của bàn tay và thực hiện hành động tương ứng cho rắn. Chương trình sẽ sử dụng camera để chạy demo.Code của game rắn săn mồi sẽ thu thập trên internet\n",
        "\n",
        "##2. Cách thức xây dựng bộ dữ liệu\n",
        "### Quay video với kích thước window là 290x350 với đầu vào là hình ảnh bàn tay phải được xoay 4 hướng, ngón chỉ hướng là ngón cái và background màu đen. Sau đó tách video lấy frame, thu thập và lọc ảnh mờ được 8800 ảnh với 4 label là left, right, up, down. Sau đó em thực hiện chuyển tất cả các ảnh trên về ảnh xám, cuối cùng là chuyển về ảnh nhị phân với threshold là 125.\n",
        "### Tập dữ liệu được phân chia với 80% train và 20% test.\n",
        "\n",
        "##3. Các đặc trưng \n",
        "### hình dáng, hướng, cạnh\n",
        "### Hướng làm: \n",
        "#### Dùng hàm HuMoments để mô tả thuộc tính của đối tượng, trả về một vector có 7 phần tử.\n",
        "#### Tính hướng của đối tượng dựa trên hàm tính Orientation của contours\n",
        "#### Dùng HOG để lấy hình dạng và sự xuất hiện của đối tượng\n",
        "### Các feature vetor trả về sẽ được lưu vào trong file datas.h5 và labels.h5\n",
        "\n",
        "##4. Mô tả các thuật toán máy học\n",
        "### Các thuật toán được sử dụng để kiểm thử:\n",
        "####LogisticRegression\n",
        "####LinearDiscriminantAnalysis\n",
        "####KNeighborsClassifier\n",
        "####DecisionTreeClassifier\n",
        "####RandomForestClassifier\n",
        "####GaussianNB\n",
        "####SVC\n",
        "\n"
      ]
    }
  ]
}