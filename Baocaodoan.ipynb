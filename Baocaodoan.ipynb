{
  "nbformat": 4,
  "nbformat_minor": 0,
  "metadata": {
    "colab": {
      "name": "Copy of Untitled0.ipynb",
      "provenance": [],
      "collapsed_sections": [],
      "toc_visible": true,
      "mount_file_id": "1CXBBvPX8qVGY0aSWYN089wQ-I_JA3vbV",
      "authorship_tag": "ABX9TyMAJ1DSR4f2j7L90n4G3Uvn",
      "include_colab_link": true
    },
    "kernelspec": {
      "name": "python3",
      "display_name": "Python 3"
    }
  },
  "cells": [
    {
      "cell_type": "markdown",
      "metadata": {
        "id": "view-in-github",
        "colab_type": "text"
      },
      "source": [
        "<a href=\"https://colab.research.google.com/github/LamQuynhf/CS114.K21.KHTN/blob/master/Baocaodoan.ipynb\" target=\"_parent\"><img src=\"https://colab.research.google.com/assets/colab-badge.svg\" alt=\"Open In Colab\"/></a>"
      ]
    },
    {
      "cell_type": "markdown",
      "metadata": {
        "id": "Pas8cduk5B5g",
        "colab_type": "text"
      },
      "source": [
        "#Mô tả bài toán\n",
        "## 1.Input,Output\n",
        "##Đây là bài toán nhận diện hướng của bàn tay áp dụng vào bài toán \"Rắn săn mồi\". Thay vì việc sử dụng các phím mũi tên lên, xuống, trái, phải, em tạo ra một model ML với input là bàn tay với 4 hướng (lên, xuống, trái, phải) tương ứng với các hướng di chuyển của rắn. Output là xác định hướng đi của rắn tương ứng với các hướng của bàn tay và thực hiện hành động tương ứng cho rắn. Chương trình sẽ sử dụng camera để chạy demo.Code của game rắn săn mồi sẽ thu thập trên internet\n",
        "\n",
        "##2. Cách thức xây dựng bộ dữ liệu\n",
        "## - Em quay một video dài 2 phút với background màu trắng, gồm các hướng bàn tay của con người. Sau đó em tách video với mỗi 1s lấy 50 frame, sau đó loại bỏ các ảnh mờ, gán nhãn và cân bằng dữ liệu thì tập dữ liệu thu được là mỗi label gồm 1250 ảnh, có 4 label là left, right, up, down. \n",
        "## - Em phân chia dữ liệu với tỉ lệ là 20% test, 80 % train, trong tập train lấy 10% làm tập validation\n",
        "<figure>\n",
        "<center>\n",
        "<img src='https://i.postimg.cc/MT77gRZn/img-198.png' />\n",
        "<figcaption>example label right</figcaption></center>\n",
        "</figure>\n",
        "\n",
        "\n",
        "##3. Các đặc trưng:\n",
        "##- Hướng bàn tay, màu da\n",
        "\n",
        "## 4. Mô tả thuật toán máy học\n",
        "## Em sử dụng mạng CNN và transfer learning model\n",
        "\n",
        "##5. Cài đặt, tinh chỉnh tham số\n",
        "##6. Kết quả, kết luận\n",
        "\n"
      ]
    },
    {
      "cell_type": "code",
      "metadata": {
        "id": "O9M7rWQW84yw",
        "colab_type": "code",
        "colab": {}
      },
      "source": [
        ""
      ],
      "execution_count": null,
      "outputs": []
    }
  ]
}