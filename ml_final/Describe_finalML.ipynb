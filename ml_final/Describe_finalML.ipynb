{
  "nbformat": 4,
  "nbformat_minor": 0,
  "metadata": {
    "colab": {
      "name": "Describe_finalML.ipynb",
      "provenance": []
    },
    "kernelspec": {
      "name": "python3",
      "display_name": "Python 3"
    }
  },
  "cells": [
    {
      "cell_type": "markdown",
      "metadata": {
        "id": "s_c0pPnkT6D5",
        "colab_type": "text"
      },
      "source": [
        "# 1.Mô tả bài toán\n",
        "## Trò chơi rắn săn mồi là một trò chơi cổ điển với lối chơi đơn giản là di chuyển con rắn bằng cách nhấn các phím mũi tên trên, xuống, trái, phải sao cho con rắn đến được chấm thức ăn. Nhằm hướng đến cách tiếp cận phương thức chơi mới, em đã áp dụng Machine Learning vào việc di chuyển hướng đi của rắn bằng cách sử dụng cử chỉ ngón tay với ngón chỉ hướng là ngón cái bàn tay phải chỉ các hướng trái, phải, trên, xuống. Chương trình sẽ sử dụng webcam để chạy trực tiếp, code của game được thu thập trên internet.\n",
        "## Input bài toán là hình ảnh ngón tay cái trỏ các hướng trái, phải, trên, xuống.\n",
        "## Output là hướng của ngón tay và hướng con rắn di chuyển\n"
      ]
    },
    {
      "cell_type": "markdown",
      "metadata": {
        "id": "NHlQ2XE7WItW",
        "colab_type": "text"
      },
      "source": [
        "# 2. Mô tả bộ dữ liệu\n",
        "## 2.1. Cách thức xây dựng bộ dữ liệu\n",
        "### Bộ dữ liệu được thu thập bằng hai cách:\n",
        "#### - Thực tế: thu thập từ 4 người bằng cách quay video với phông màu đen, bàn tay nằm trọn trong khung hình, hướng chỉ tay là ngón cái bàn tay phải, video thu được sẽ được tách lấy các frame. Tổng cộng thu được 14800 ảnh.\n",
        "#### - Internet: thu thập trên dữ liệu trên kaggle thu được 4000 ảnh.\n",
        "### Tổng tất cả ảnh của dataset là 18800 ảnh.\n",
        "\n",
        "## 2.2. Tiễn xử lí dữ liệu:\n",
        "\n",
        "### Các hình ảnh sẽ được gán một trong bốn label: left, right, up, down. Tất cả hình ảnh sẽ được resize về kích thước 320x320. Ảnh sẽ được chuyển về ảnh xám và sau đó tìm threshold phù hợp để chuyển về ảnh nhị phân trong đó nền là màu đen và hình dạng bàn tay có màu trắng.\n",
        "\n",
        "## 2.3. Phân chia bộ dữ liệu\n",
        "### Bộ dữ liệu được phân chia với 80% train và 20% test\n",
        "\n"
      ]
    },
    {
      "cell_type": "markdown",
      "metadata": {
        "id": "bQw_gh5xZe37",
        "colab_type": "text"
      },
      "source": [
        "# 3. Mô tả đặc trưng:\n",
        "## - Hình dáng bàn tay\n",
        "## - Hướng ngón tay\n",
        "### Sử dụng HOG để rút trích đặc trưng với cách tìm contours của đối tượng sau đó vẽ hình chữ nhật đứng bao xung quanh contours đó, resize hình chữ nhật thành kich thước 150x150. Áp dụng HOG vào hình chữ nhật đó\n",
        "<figure>\n",
        "<center>\n",
        "<img src='https://i.postimg.cc/52F47Kj1/download-1.png' />\n",
        "<figcaption>vẽ bounding box </figcaption></center>\n",
        "</figure>"
      ]
    },
    {
      "cell_type": "markdown",
      "metadata": {
        "id": "XzY-JHk4aWa_",
        "colab_type": "text"
      },
      "source": [
        "# 4. Mô tả về thuật toán máy học\n",
        "## Các thuật toán đã kiểm thử:\n",
        "### LogisticRegression\n",
        "###  LinearDiscriminantAnalysis\n",
        "### KNeighborsClassifier\n",
        "### DecisionTreeClassifier\n",
        "### RandomForestClassifier\n",
        "### GaussianNB\n",
        "## Accuracy của các thuật toán với tập train.\n",
        "<figure>\n",
        "<center>\n",
        "<img src='https://i.postimg.cc/DwGzCyTM/download.png' />\n",
        "<figcaption>Accuracy </figcaption></center>\n",
        "</figure> \n",
        "\n",
        "\n"
      ]
    },
    {
      "cell_type": "markdown",
      "metadata": {
        "id": "o1nTzSV5e_Q2",
        "colab_type": "text"
      },
      "source": [
        "# 5. Đánh giá thuật toán\n",
        "## Sử dụng các thuật toán đã thử để đưa vào tập test đánh giá. Đánh giá model dựa trên các thông số *precision*, *recall*, *fscore*.\n",
        "<figure>\n",
        "<center>\n",
        "<img src='https://i.postimg.cc/qBxHRV6z/Screenshot-from-2020-07-30-18-32-54.png' />\n",
        "<figcaption>LogisticRegression </figcaption></center>\n",
        "</figure> \n",
        "\n",
        "<figure>\n",
        "<center>\n",
        "<img src='https://i.postimg.cc/DzWKyBt0/Screenshot-from-2020-07-30-18-43-16.png' />\n",
        "<figcaption>LinearDiscriminantAnalysis </figcaption></center>\n",
        "</figure> \n",
        "\n",
        "<figure>\n",
        "<center>\n",
        "<img src='https://i.postimg.cc/fTFCQCjB/Screenshot-from-2020-07-30-18-44-59.png' />\n",
        "<figcaption>KNeighborsClassifier </figcaption></center>\n",
        "</figure>\n",
        "\n",
        "<figure>\n",
        "<center>\n",
        "<img src='https://i.postimg.cc/SRP6qQ8J/Screenshot-from-2020-07-30-18-45-08.png' />\n",
        "<figcaption>DecisionTreeClassifier </figcaption></center>\n",
        "</figure>\n",
        "\n",
        "<figure>\n",
        "<center>\n",
        "<img src='https://i.postimg.cc/D0RXHjkG/Screenshot-from-2020-07-30-18-45-19.png' />\n",
        "<figcaption>RandomForestClassifier </figcaption></center>\n",
        "</figure>\n",
        "\n",
        "<figure>\n",
        "<center>\n",
        "<img src='https://i.postimg.cc/d0nTwtcw/Screenshot-from-2020-07-30-18-45-26.png' />\n",
        "<figcaption>GaussianNB </figcaption></center>\n",
        "</figure>\n",
        "\n",
        "##Kết luận:\n",
        "###Model với thuật toán LinearDiscriminantAnalysis cho kết quả tốt nhất trên cả tập train và tập test.\n",
        "\n"
      ]
    },
    {
      "cell_type": "markdown",
      "metadata": {
        "id": "92BRud76kSpY",
        "colab_type": "text"
      },
      "source": [
        "# 6. Áp dụng model với thuật toán LinearDiscriminantAnalysis vào chạy với dữ liệu stream và đưa vào game rắn săn mồi.\n",
        "## Cách sử dụng:Sử  dụng webcam để lấy hình ảnh bàn tay, đưa bàn tay vào trong khung hình original xuất hiện trên màn hình, sử dụng ngón tay cái để chỉ hướng và thực hiện xoay hướng ngón tay theo ý bạn mong muốn.\n",
        "<figure>\n",
        "<center>\n",
        "<img src='https://i.postimg.cc/13sGXSTj/Screenshot-from-2020-07-19-00-17-19.png' />\n",
        "<figcaption>Original image</figcaption></center>\n",
        "</figure>\n",
        "\n",
        "## Quy trình xử lí ảnh để loại bỏ nhiễu :Để xử lý background, em sử dụng backgroundsubtractor để loại bỏ nền,\n",
        "<figure>\n",
        "<center>\n",
        "<img src='https://i.postimg.cc/TYVDbSv5/Screenshot-from-2020-07-19-00-17-23.png' />\n",
        "<figcaption>get foreground</figcaption></center>\n",
        "</figure>\n",
        "\n",
        "## sau đó chuyển về ảnh grayscale rồi làm mờ ảnh với Gaussian ,\n",
        "<figure>\n",
        "<center>\n",
        "<img src='https://i.postimg.cc/pL1LHSWF/Screenshot-from-2020-07-28-21-38-57.png' />\n",
        "<figcaption>blur</figcaption></center>\n",
        "</figure>\n",
        "\n",
        "##cuối cùng áp threshold để chuyển về ảnh nhị phân, sử dụng ảnh nhị phân để rút trích đặc trưng rồi đưa vào model dự đoán.\n",
        "\n",
        "<figure>\n",
        "<center>\n",
        "<img src='https://i.postimg.cc/C5Z4cXxs/Screenshot-from-2020-07-28-21-44-21.png' />\n",
        "<figcaption>binary image</figcaption></center>\n",
        "</figure>\n",
        "\n",
        "##Hướng đi của rắn sẽ là y_predicted.\n",
        "\n",
        "## Kết quả: Model thực hiện tốt khi hướng ngón tay được giữ cố định, nhưng trong quá trình thực hiện xoay hướng ngón tay,khoảng cách giữa khi từ hướng cũ đến hướng mới model có thể dự đoán sai.\n"
      ]
    },
    {
      "cell_type": "code",
      "metadata": {
        "id": "ILobnFmglsIJ",
        "colab_type": "code",
        "colab": {}
      },
      "source": [
        ""
      ],
      "execution_count": null,
      "outputs": []
    }
  ]
}