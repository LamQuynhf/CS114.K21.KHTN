{
  "nbformat": 4,
  "nbformat_minor": 0,
  "metadata": {
    "colab": {
      "name": "hog.ipynb",
      "provenance": []
    },
    "kernelspec": {
      "name": "python3",
      "display_name": "Python 3"
    },
    "accelerator": "GPU"
  },
  "cells": [
    {
      "cell_type": "code",
      "metadata": {
        "id": "nY6Faq-aUYRY",
        "colab_type": "code",
        "colab": {
          "base_uri": "https://localhost:8080/",
          "height": 70
        },
        "outputId": "99940d7f-beb7-422c-c36e-c6fcd57ace26"
      },
      "source": [
        "import os\n",
        "import cv2\n",
        "import numpy as np\n",
        "from skimage.feature import hog\n",
        "import h5py\n",
        "import numpy as np\n",
        "import glob\n",
        "import warnings\n",
        "from matplotlib import pyplot\n",
        "from sklearn.model_selection import train_test_split, cross_val_score\n",
        "from sklearn.model_selection import KFold, StratifiedKFold\n",
        "from sklearn.metrics import confusion_matrix, accuracy_score, classification_report\n",
        "from sklearn.linear_model import LogisticRegression\n",
        "from sklearn.tree import DecisionTreeClassifier\n",
        "from sklearn.ensemble import RandomForestClassifier\n",
        "from sklearn.neighbors import KNeighborsClassifier\n",
        "from sklearn.discriminant_analysis import LinearDiscriminantAnalysis\n",
        "from sklearn.naive_bayes import GaussianNB\n",
        "from sklearn.svm import SVC\n",
        "from sklearn.externals import joblib\n",
        "from sklearn.preprocessing import LabelEncoder\n",
        "from sklearn.preprocessing import MinMaxScaler\n",
        "warnings.filterwarnings('ignore')\n",
        "from google.colab.patches import cv2_imshow"
      ],
      "execution_count": 2,
      "outputs": [
        {
          "output_type": "stream",
          "text": [
            "/usr/local/lib/python3.6/dist-packages/sklearn/externals/joblib/__init__.py:15: FutureWarning: sklearn.externals.joblib is deprecated in 0.21 and will be removed in 0.23. Please import this functionality directly from joblib, which can be installed with: pip install joblib. If this warning is raised when loading pickled models, you may need to re-serialize those models with scikit-learn 0.21+.\n",
            "  warnings.warn(msg, category=FutureWarning)\n"
          ],
          "name": "stderr"
        }
      ]
    },
    {
      "cell_type": "code",
      "metadata": {
        "id": "Od1SFFTEWD0t",
        "colab_type": "code",
        "colab": {}
      },
      "source": [
        "path='/content/drive/My Drive/new_dataset'"
      ],
      "execution_count": 3,
      "outputs": []
    },
    {
      "cell_type": "code",
      "metadata": {
        "id": "MHhVEAcQWLXB",
        "colab_type": "code",
        "colab": {
          "base_uri": "https://localhost:8080/",
          "height": 34
        },
        "outputId": "7ee03282-159b-4766-9cd9-57e81aed2462"
      },
      "source": [
        "data_name=os.listdir(path)\n",
        "data_name.sort()\n",
        "print(data_name)\n"
      ],
      "execution_count": 4,
      "outputs": [
        {
          "output_type": "stream",
          "text": [
            "['quynh', 'san', 'tri', 'trung']\n"
          ],
          "name": "stdout"
        }
      ]
    },
    {
      "cell_type": "code",
      "metadata": {
        "id": "G0nw5l6jWe0B",
        "colab_type": "code",
        "colab": {}
      },
      "source": [
        "def extract_feature(img):\n",
        "  contours, hierarchy = cv2.findContours(img, cv2.RETR_TREE, cv2.CHAIN_APPROX_SIMPLE)\n",
        "  cnt = max(contours, key = lambda x: cv2.contourArea(x))\n",
        "  (x,y),(MA,ma),angle = cv2.fitEllipse(cnt)\n",
        "  area = cv2.contourArea(cnt)\n",
        "  # Tính diện tích bouding box\n",
        "  x,y,w,h = cv2.boundingRect(cnt)\n",
        "  rect_area = w*h\n",
        "  # Tính độ phủ\n",
        "  extent = float(area)/rect_area\n",
        "  #focus roi\n",
        "  roi = img[y:y+h, x:x+w]\n",
        "  roi = cv2.resize(roi, (150, 150))\n",
        "  H = hog(roi, orientations=9, pixels_per_cell=(15, 15),cells_per_block=(2,2), transform_sqrt=True, block_norm=\"L1\")\n",
        "  return np.hstack([(angle/180),extent,H])"
      ],
      "execution_count": 5,
      "outputs": []
    },
    {
      "cell_type": "code",
      "metadata": {
        "id": "oGU2NeExasC1",
        "colab_type": "code",
        "colab": {
          "base_uri": "https://localhost:8080/",
          "height": 319
        },
        "outputId": "38792bdf-7e21-4946-a267-1b9eaa8db48b"
      },
      "source": [
        "global_features = []\n",
        "labels          = []\n",
        "fixed_size=(320,320)\n",
        "for name in data_name:\n",
        "  if name=='quynh':\n",
        "    thresh=125\n",
        "  elif name=='tri':\n",
        "    thresh=95\n",
        "  elif name=='san':\n",
        "    thresh=25\n",
        "  else:\n",
        "    thresh=110\n",
        "  name_path=os.path.join(path,name)\n",
        "  parentid=os.listdir(name_path)\n",
        "  parentid.sort()\n",
        "  for parent in parentid:\n",
        "    parent_path=os.path.join(name_path,parent)\n",
        "    items=os.listdir(parent_path)\n",
        "    items=np.array(items)\n",
        "    items.reshape(1,-1)\n",
        "    for item in items:\n",
        "      file=os.path.join(parent_path,item)\n",
        "      image=cv2.imread(file)\n",
        "      image = cv2.resize(image, fixed_size)\n",
        "      frame = cv2.cvtColor(image, cv2.COLOR_BGR2GRAY)\n",
        "      ret,img = cv2.threshold(frame,thresh,255,0)\n",
        "      feature=extract_feature(img)\n",
        "      global_features.append(feature)\n",
        "      labels.append(parent)\n",
        "    print(\"[STATUS] processed folder: {}\".format(parent))\n",
        "  print(\"[STATUS] processed folder: {}\".format(name))\n",
        "\n",
        "\n",
        "\n"
      ],
      "execution_count": 6,
      "outputs": [
        {
          "output_type": "stream",
          "text": [
            "[STATUS] processed folder: down\n",
            "[STATUS] processed folder: left\n",
            "[STATUS] processed folder: right\n",
            "[STATUS] processed folder: up\n",
            "[STATUS] processed folder: quynh\n",
            "[STATUS] processed folder: down\n",
            "[STATUS] processed folder: left\n",
            "[STATUS] processed folder: right\n",
            "[STATUS] processed folder: up\n",
            "[STATUS] processed folder: san\n",
            "[STATUS] processed folder: right\n",
            "[STATUS] processed folder: up\n",
            "[STATUS] processed folder: tri\n",
            "[STATUS] processed folder: down\n",
            "[STATUS] processed folder: left\n",
            "[STATUS] processed folder: right\n",
            "[STATUS] processed folder: up\n",
            "[STATUS] processed folder: trung\n"
          ],
          "name": "stdout"
        }
      ]
    },
    {
      "cell_type": "code",
      "metadata": {
        "id": "OJ6YO5TrcOd9",
        "colab_type": "code",
        "colab": {}
      },
      "source": [
        "h5_data          = '/content/drive/My Drive/output/data.h5'\n",
        "h5_labels       = '/content/drive/My Drive/output/labels.h5'"
      ],
      "execution_count": 7,
      "outputs": []
    },
    {
      "cell_type": "code",
      "metadata": {
        "id": "2Y3Ov9MVcZAl",
        "colab_type": "code",
        "colab": {
          "base_uri": "https://localhost:8080/",
          "height": 118
        },
        "outputId": "f52f3d38-b5a0-4589-8ed0-685f4325bb88"
      },
      "source": [
        "\n",
        "# get the overall feature vector size\n",
        "print(\"[STATUS] feature vector size {}\".format(np.array(global_features).shape))\n",
        "\n",
        "# get the overall training label size\n",
        "print(\"[STATUS] training Labels {}\".format(np.array(labels).shape))\n",
        "\n",
        "# encode the target labels\n",
        "targetNames = np.unique(labels)\n",
        "le          = LabelEncoder()\n",
        "target      = le.fit_transform(labels)\n",
        "print(\"[STATUS] training labels encoded...\")\n",
        "\n",
        "\n",
        "\n",
        "print(\"[STATUS] target labels: {}\".format(target))\n",
        "print(\"[STATUS] target labels shape: {}\".format(target.shape))\n",
        "\n",
        "\n",
        "# save the feature vector using HDF5\n",
        "h5f_data = h5py.File(h5_data, 'w')\n",
        "h5f_data.create_dataset('dataset_1', data=np.array(global_features))\n",
        "\n",
        "h5f_label = h5py.File(h5_labels, 'w')\n",
        "h5f_label.create_dataset('dataset_1', data=np.array(target))\n",
        "\n",
        "h5f_data.close()\n",
        "h5f_label.close()\n",
        "\n",
        "print(\"[STATUS] end of training..\")"
      ],
      "execution_count": 8,
      "outputs": [
        {
          "output_type": "stream",
          "text": [
            "[STATUS] feature vector size (14800, 2918)\n",
            "[STATUS] training Labels (14800,)\n",
            "[STATUS] training labels encoded...\n",
            "[STATUS] target labels: [0 0 0 ... 3 3 3]\n",
            "[STATUS] target labels shape: (14800,)\n",
            "[STATUS] end of training..\n"
          ],
          "name": "stdout"
        }
      ]
    },
    {
      "cell_type": "code",
      "metadata": {
        "id": "LWUnHBuWci19",
        "colab_type": "code",
        "colab": {
          "base_uri": "https://localhost:8080/",
          "height": 67
        },
        "outputId": "ba6d0275-42cb-47ae-95de-4c6cbe8df2c9"
      },
      "source": [
        "h5f_data  = h5py.File(h5_data, 'r')\n",
        "h5f_label = h5py.File(h5_labels, 'r')\n",
        "\n",
        "global_features_string = h5f_data['dataset_1']\n",
        "global_labels_string   = h5f_label['dataset_1']\n",
        "\n",
        "global_features = np.array(global_features_string)\n",
        "global_labels   = np.array(global_labels_string)\n",
        "\n",
        "h5f_data.close()\n",
        "h5f_label.close()\n",
        "\n",
        "# verify the shape of the feature vector and labels\n",
        "print(\"[STATUS] features shape: {}\".format(global_features.shape))\n",
        "print(\"[STATUS] labels shape: {}\".format(global_labels.shape))\n",
        "\n",
        "print(\"[STATUS] training started...\")"
      ],
      "execution_count": 9,
      "outputs": [
        {
          "output_type": "stream",
          "text": [
            "[STATUS] features shape: (14800, 2918)\n",
            "[STATUS] labels shape: (14800,)\n",
            "[STATUS] training started...\n"
          ],
          "name": "stdout"
        }
      ]
    },
    {
      "cell_type": "code",
      "metadata": {
        "id": "gSmbBl61ckm5",
        "colab_type": "code",
        "colab": {
          "base_uri": "https://localhost:8080/",
          "height": 101
        },
        "outputId": "827b3adc-40cb-458f-fdb0-6c567a3b0a58"
      },
      "source": [
        "\n",
        "(trainDataGlobal, testDataGlobal, trainLabelsGlobal, testLabelsGlobal) = train_test_split(np.array(global_features),\n",
        "                                                                                          np.array(global_labels),\n",
        "                                                                                          test_size=0.2,\n",
        "                                                                                          random_state=42)\n",
        "\n",
        "print(\"[STATUS] splitted train and test data...\")\n",
        "print(\"Train data  : {}\".format(trainDataGlobal.shape))\n",
        "print(\"Test data   : {}\".format(testDataGlobal.shape))\n",
        "print(\"Train labels: {}\".format(trainLabelsGlobal.shape))\n",
        "print(\"Test labels : {}\".format(testLabelsGlobal.shape))"
      ],
      "execution_count": 10,
      "outputs": [
        {
          "output_type": "stream",
          "text": [
            "[STATUS] splitted train and test data...\n",
            "Train data  : (11840, 2918)\n",
            "Test data   : (2960, 2918)\n",
            "Train labels: (11840,)\n",
            "Test labels : (2960,)\n"
          ],
          "name": "stdout"
        }
      ]
    },
    {
      "cell_type": "code",
      "metadata": {
        "id": "BE9wwZlDcmoU",
        "colab_type": "code",
        "colab": {
          "base_uri": "https://localhost:8080/",
          "height": 395
        },
        "outputId": "290e2b3c-2644-4ba5-eebd-481d21d6add9"
      },
      "source": [
        "\n",
        "scoring    = \"accuracy\"\n",
        "seed=9\n",
        "num_trees=100\n",
        "models = []\n",
        "models.append(('LR', LogisticRegression(random_state=seed)))\n",
        "models.append(('LDA', LinearDiscriminantAnalysis()))\n",
        "models.append(('KNN', KNeighborsClassifier()))\n",
        "models.append(('CART', DecisionTreeClassifier(random_state=seed)))\n",
        "models.append(('RF', RandomForestClassifier(n_estimators=num_trees, random_state=seed)))\n",
        "models.append(('NB', GaussianNB()))\n",
        "\n",
        "# variables to hold the results and names\n",
        "results = []\n",
        "names   = []\n",
        "for name, model in models:\n",
        "    kfold = KFold(n_splits=10, random_state=seed)\n",
        "    cv_results = cross_val_score(model,trainDataGlobal, trainLabelsGlobal, cv=kfold, scoring=scoring)\n",
        "    results.append(cv_results)\n",
        "    names.append(name)\n",
        "    msg = \"%s: %f (%f)\" % (name, cv_results.mean(), cv_results.std())\n",
        "    print(msg)\n",
        "\n",
        "# boxplot algorithm comparison\n",
        "fig = pyplot.figure()\n",
        "fig.suptitle('Machine Learning algorithm comparison')\n",
        "ax = fig.add_subplot(111)\n",
        "pyplot.boxplot(results)\n",
        "ax.set_xticklabels(names)\n",
        "pyplot.show()"
      ],
      "execution_count": 11,
      "outputs": [
        {
          "output_type": "stream",
          "text": [
            "LR: 0.999916 (0.000253)\n",
            "LDA: 0.999916 (0.000253)\n",
            "KNN: 0.999831 (0.000338)\n",
            "CART: 0.997382 (0.001790)\n",
            "RF: 0.999916 (0.000253)\n",
            "NB: 0.999240 (0.000797)\n"
          ],
          "name": "stdout"
        },
        {
          "output_type": "display_data",
          "data": {
            "image/png": "[encoded data removed]",
            "text/plain": [
              "<Figure size 432x288 with 1 Axes>"
            ]
          },
          "metadata": {
            "tags": [],
            "needs_background": "light"
          }
        }
      ]
    },
    {
      "cell_type": "code",
      "metadata": {
        "id": "sRQGcDofc101",
        "colab_type": "code",
        "colab": {
          "base_uri": "https://localhost:8080/",
          "height": 1000
        },
        "outputId": "a260ea31-75bb-4fbb-850e-60d5bda92902"
      },
      "source": [
        "from sklearn.metrics import accuracy_score\n",
        "from sklearn.metrics import confusion_matrix\n",
        "from sklearn.metrics import precision_recall_curve\n",
        "from sklearn.metrics import average_precision_score\n",
        "from sklearn.metrics import precision_recall_fscore_support as score\n",
        "\n",
        "print(\"\\n=====================LogisticRegression======================\\n\")\n",
        "model1=LogisticRegression()\n",
        "model1.fit(trainDataGlobal,trainLabelsGlobal)\n",
        "y_pred1 = model1.predict(testDataGlobal)\n",
        "print('accuracy = ',accuracy_score(testLabelsGlobal, y_pred1))\n",
        "\n",
        "cnf_matrix1 = confusion_matrix(testLabelsGlobal, y_pred1)\n",
        "print('Confusion matrix:')\n",
        "print(cnf_matrix1)\n",
        "# y_score = model1.decision_function(x_val)\n",
        "precision, recall, fscore, support = score(testLabelsGlobal, y_pred1)\n",
        "\n",
        "print('precision: {}'.format(precision))\n",
        "print('recall: {}'.format(recall))\n",
        "print('fscore: {}'.format(fscore))\n",
        "print('support: {}'.format(support))\n",
        "\n",
        "#####\n",
        "print(\"\\n=====================LinearDiscriminantAnalysis======================\\n\")\n",
        "model2=LinearDiscriminantAnalysis()\n",
        "model2.fit(trainDataGlobal,trainLabelsGlobal)\n",
        "y_pred2 = model2.predict(testDataGlobal)\n",
        "print('accuracy = ',accuracy_score(testLabelsGlobal, y_pred2))\n",
        "\n",
        "cnf_matrix2 = confusion_matrix(testLabelsGlobal, y_pred2)\n",
        "print('Confusion matrix:')\n",
        "print(cnf_matrix2)\n",
        "# y_score = model1.decision_function(x_val)\n",
        "precision, recall, fscore, support = score(testLabelsGlobal, y_pred2)\n",
        "\n",
        "print('precision: {}'.format(precision))\n",
        "print('recall: {}'.format(recall))\n",
        "print('fscore: {}'.format(fscore))\n",
        "print('support: {}'.format(support))\n",
        "\n",
        "print(\"\\n=====================KNeighborsClassifier======================\\n\")\n",
        "\n",
        "####\n",
        "model3=KNeighborsClassifier(n_neighbors=5)\n",
        "model3.fit(trainDataGlobal,trainLabelsGlobal)\n",
        "y_pred3 = model3.predict(testDataGlobal)\n",
        "print('accuracy = ',accuracy_score(testLabelsGlobal, y_pred3))\n",
        "\n",
        "cnf_matrix3 = confusion_matrix(testLabelsGlobal, y_pred3)\n",
        "print('Confusion matrix:')\n",
        "print(cnf_matrix3)\n",
        "# y_score = model1.decision_function(x_val)\n",
        "precision, recall, fscore, support = score(testLabelsGlobal, y_pred3)\n",
        "\n",
        "print('precision: {}'.format(precision))\n",
        "print('recall: {}'.format(recall))\n",
        "print('fscore: {}'.format(fscore))\n",
        "print('support: {}'.format(support))\n",
        "\n",
        "\n",
        "####\n",
        "print(\"\\n=====================DecisionTreeClassifier======================\\n\")\n",
        "\n",
        "model4= DecisionTreeClassifier()\n",
        "model4.fit(trainDataGlobal,trainLabelsGlobal)\n",
        "y_pred4 = model4.predict(testDataGlobal)\n",
        "print('accuracy = ',accuracy_score(testLabelsGlobal, y_pred4))\n",
        "\n",
        "cnf_matrix4 = confusion_matrix(testLabelsGlobal, y_pred4)\n",
        "print('Confusion matrix:')\n",
        "print(cnf_matrix4)\n",
        "# y_score = model1.decision_function(x_val)\n",
        "precision, recall, fscore, support = score(testLabelsGlobal, y_pred4)\n",
        "\n",
        "print('precision: {}'.format(precision))\n",
        "print('recall: {}'.format(recall))\n",
        "print('fscore: {}'.format(fscore))\n",
        "print('support: {}'.format(support))\n",
        "\n",
        "\n",
        "###\n",
        "print(\"\\n=====================RandomForestClassifier======================\\n\")\n",
        "\n",
        "model5=RandomForestClassifier(n_estimators=100,random_state=0)\n",
        "model5.fit(trainDataGlobal,trainLabelsGlobal)\n",
        "y_pred5 = model5.predict(testDataGlobal)\n",
        "print('accuracy = ',accuracy_score(testLabelsGlobal, y_pred5))\n",
        "\n",
        "cnf_matrix5 = confusion_matrix(testLabelsGlobal, y_pred5)\n",
        "print('Confusion matrix:')\n",
        "print(cnf_matrix5)\n",
        "# y_score = model1.decision_function(x_val)\n",
        "precision, recall, fscore, support = score(testLabelsGlobal, y_pred5)\n",
        "\n",
        "print('precision: {}'.format(precision))\n",
        "print('recall: {}'.format(recall))\n",
        "print('fscore: {}'.format(fscore))\n",
        "print('support: {}'.format(support))\n",
        "\n",
        "\n",
        "####\n",
        "print(\"\\n=====================GaussianNB======================\\n\")\n",
        "\n",
        "model6=GaussianNB()\n",
        "model6.fit(trainDataGlobal,trainLabelsGlobal)\n",
        "y_pred6 = model6.predict(testDataGlobal)\n",
        "print('accuracy = ',accuracy_score(testLabelsGlobal, y_pred6))\n",
        "\n",
        "cnf_matrix6 = confusion_matrix(testLabelsGlobal, y_pred6)\n",
        "print('Confusion matrix:')\n",
        "print(cnf_matrix6)\n",
        "# y_score = model1.decision_function(x_val)\n",
        "precision, recall, fscore, support = score(testLabelsGlobal, y_pred6)\n",
        "\n",
        "print('precision: {}'.format(precision))\n",
        "print('recall   : {}'.format(recall))\n",
        "print('fscore   : {}'.format(fscore))\n",
        "print('support  : {}'.format(support))\n",
        "\n",
        "\n",
        "\n",
        "\n"
      ],
      "execution_count": 12,
      "outputs": [
        {
          "output_type": "stream",
          "text": [
            "\n",
            "=====================LogisticRegression======================\n",
            "\n",
            "accuracy =  1.0\n",
            "Confusion matrix:\n",
            "[[748   0   0   0]\n",
            " [  0 768   0   0]\n",
            " [  0   0 680   0]\n",
            " [  0   0   0 764]]\n",
            "precision: [1. 1. 1. 1.]\n",
            "recall: [1. 1. 1. 1.]\n",
            "fscore: [1. 1. 1. 1.]\n",
            "support: [748 768 680 764]\n",
            "\n",
            "=====================LinearDiscriminantAnalysis======================\n",
            "\n",
            "accuracy =  1.0\n",
            "Confusion matrix:\n",
            "[[748   0   0   0]\n",
            " [  0 768   0   0]\n",
            " [  0   0 680   0]\n",
            " [  0   0   0 764]]\n",
            "precision: [1. 1. 1. 1.]\n",
            "recall: [1. 1. 1. 1.]\n",
            "fscore: [1. 1. 1. 1.]\n",
            "support: [748 768 680 764]\n",
            "\n",
            "=====================KNeighborsClassifier======================\n",
            "\n",
            "accuracy =  0.9996621621621622\n",
            "Confusion matrix:\n",
            "[[748   0   0   0]\n",
            " [  0 768   0   0]\n",
            " [  0   0 680   0]\n",
            " [  0   1   0 763]]\n",
            "precision: [1.         0.99869961 1.         1.        ]\n",
            "recall: [1.        1.        1.        0.9986911]\n",
            "fscore: [1.         0.99934938 1.         0.99934512]\n",
            "support: [748 768 680 764]\n",
            "\n",
            "=====================DecisionTreeClassifier======================\n",
            "\n",
            "accuracy =  0.9979729729729729\n",
            "Confusion matrix:\n",
            "[[746   0   1   1]\n",
            " [  2 766   0   0]\n",
            " [  0   2 678   0]\n",
            " [  0   0   0 764]]\n",
            "precision: [0.9973262  0.99739583 0.99852725 0.99869281]\n",
            "recall: [0.9973262  0.99739583 0.99705882 1.        ]\n",
            "fscore: [0.9973262  0.99739583 0.99779249 0.99934598]\n",
            "support: [748 768 680 764]\n",
            "\n",
            "=====================RandomForestClassifier======================\n",
            "\n",
            "accuracy =  1.0\n",
            "Confusion matrix:\n",
            "[[748   0   0   0]\n",
            " [  0 768   0   0]\n",
            " [  0   0 680   0]\n",
            " [  0   0   0 764]]\n",
            "precision: [1. 1. 1. 1.]\n",
            "recall: [1. 1. 1. 1.]\n",
            "fscore: [1. 1. 1. 1.]\n",
            "support: [748 768 680 764]\n",
            "\n",
            "=====================GaussianNB======================\n",
            "\n",
            "accuracy =  0.9996621621621622\n",
            "Confusion matrix:\n",
            "[[747   1   0   0]\n",
            " [  0 768   0   0]\n",
            " [  0   0 680   0]\n",
            " [  0   0   0 764]]\n",
            "precision: [1.         0.99869961 1.         1.        ]\n",
            "recall   : [0.9986631 1.        1.        1.       ]\n",
            "fscore   : [0.9993311  0.99934938 1.         1.        ]\n",
            "support  : [748 768 680 764]\n"
          ],
          "name": "stdout"
        }
      ]
    },
    {
      "cell_type": "code",
      "metadata": {
        "id": "tJc9KkGQc5AU",
        "colab_type": "code",
        "colab": {
          "base_uri": "https://localhost:8080/",
          "height": 34
        },
        "outputId": "7b0c5e7c-c80c-4512-998a-bda931df72dc"
      },
      "source": [
        "\n",
        "from joblib import dump\n",
        "dump(model5, 'weight_hog.joblib') \n",
        "\n",
        "\n"
      ],
      "execution_count": 13,
      "outputs": [
        {
          "output_type": "execute_result",
          "data": {
            "text/plain": [
              "['weight_hog.joblib']"
            ]
          },
          "metadata": {
            "tags": []
          },
          "execution_count": 13
        }
      ]
    }
  ]
}