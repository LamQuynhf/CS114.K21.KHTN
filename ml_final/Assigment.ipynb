{
  "nbformat": 4,
  "nbformat_minor": 0,
  "metadata": {
    "colab": {
      "name": "feature_scale.ipynb",
      "provenance": []
    },
    "kernelspec": {
      "name": "python3",
      "display_name": "Python 3"
    },
    "accelerator": "GPU"
  },
  "cells": [
    {
      "cell_type": "code",
      "metadata": {
        "id": "U__nnAp4GFY0",
        "colab_type": "code",
        "colab": {
          "base_uri": "https://localhost:8080/",
          "height": 70
        },
        "outputId": "675ba5db-1513-4757-d13e-c88d5a51c15e"
      },
      "source": [
        "import os\n",
        "import cv2\n",
        "import numpy as np\n",
        "from skimage.feature import hog\n",
        "import h5py\n",
        "import numpy as np\n",
        "import glob\n",
        "import warnings\n",
        "from matplotlib import pyplot\n",
        "from sklearn.model_selection import train_test_split, cross_val_score\n",
        "from sklearn.model_selection import KFold, StratifiedKFold\n",
        "from sklearn.metrics import confusion_matrix, accuracy_score, classification_report\n",
        "from sklearn.linear_model import LogisticRegression\n",
        "from sklearn.tree import DecisionTreeClassifier\n",
        "from sklearn.ensemble import RandomForestClassifier\n",
        "from sklearn.neighbors import KNeighborsClassifier\n",
        "from sklearn.discriminant_analysis import LinearDiscriminantAnalysis\n",
        "from sklearn.naive_bayes import GaussianNB\n",
        "from sklearn.svm import SVC\n",
        "from sklearn.externals import joblib\n",
        "from sklearn.preprocessing import LabelEncoder\n",
        "from sklearn.preprocessing import MinMaxScaler\n",
        "warnings.filterwarnings('ignore')\n",
        "from google.colab.patches import cv2_imshow"
      ],
      "execution_count": null,
      "outputs": [
        {
          "output_type": "stream",
          "text": [
            "/usr/local/lib/python3.6/dist-packages/sklearn/externals/joblib/__init__.py:15: FutureWarning: sklearn.externals.joblib is deprecated in 0.21 and will be removed in 0.23. Please import this functionality directly from joblib, which can be installed with: pip install joblib. If this warning is raised when loading pickled models, you may need to re-serialize those models with scikit-learn 0.21+.\n",
            "  warnings.warn(msg, category=FutureWarning)\n"
          ],
          "name": "stderr"
        }
      ]
    },
    {
      "cell_type": "code",
      "metadata": {
        "id": "D4sj6VL4GJGs",
        "colab_type": "code",
        "colab": {}
      },
      "source": [
        "path='/content/drive/My Drive/new_dataset'"
      ],
      "execution_count": null,
      "outputs": []
    },
    {
      "cell_type": "code",
      "metadata": {
        "id": "YsE1jF6VGLp3",
        "colab_type": "code",
        "colab": {
          "base_uri": "https://localhost:8080/",
          "height": 34
        },
        "outputId": "e866e2e7-9ffa-478e-e28e-b58a0be7fd0a"
      },
      "source": [
        "data_name=os.listdir(path)\n",
        "data_name.sort()\n",
        "print(data_name)\n"
      ],
      "execution_count": null,
      "outputs": [
        {
          "output_type": "stream",
          "text": [
            "['quynh', 'san', 'tri', 'trung']\n"
          ],
          "name": "stdout"
        }
      ]
    },
    {
      "cell_type": "code",
      "metadata": {
        "id": "xGWz6L9cGNrA",
        "colab_type": "code",
        "colab": {}
      },
      "source": [
        "def extract_feature(img):\n",
        "  contours, hierarchy = cv2.findContours(img, cv2.RETR_TREE, cv2.CHAIN_APPROX_SIMPLE)\n",
        "  ac=np.hstack([contours[i].flatten() for i in range(len(contours))])\n",
        "  l=ac.shape[0]\n",
        "  ac=ac.reshape(int(l/2),2)\n",
        "  (x,y),(MA,ma),angle = cv2.fitEllipse(ac)\n",
        "  area = cv2.contourArea(ac)\n",
        "  # Tính diện tích bouding box\n",
        "  x,y,w,h = cv2.boundingRect(ac)\n",
        "  rect_area = w*h\n",
        "  # Tính độ phủ\n",
        "  extent = float(area)/rect_area\n",
        "  H = hog(img, orientations=9, pixels_per_cell=(32, 32),cells_per_block=(2,2), transform_sqrt=True, block_norm=\"L1\")\n",
        "  return np.hstack([(angle/180),extent,H])"
      ],
      "execution_count": null,
      "outputs": []
    },
    {
      "cell_type": "code",
      "metadata": {
        "id": "kMd_LaANGPTp",
        "colab_type": "code",
        "colab": {
          "base_uri": "https://localhost:8080/",
          "height": 319
        },
        "outputId": "aaa9599b-d5b8-46dc-8657-502077483675"
      },
      "source": [
        "global_features = []\n",
        "labels          = []\n",
        "fixed_size=(320,320)\n",
        "for name in data_name:\n",
        "  if name=='quynh':\n",
        "    thresh=125\n",
        "  elif name=='tri':\n",
        "    thresh=95\n",
        "  elif name=='san':\n",
        "    thresh=25\n",
        "  else:\n",
        "    thresh=110\n",
        "  name_path=os.path.join(path,name)\n",
        "  parentid=os.listdir(name_path)\n",
        "  parentid.sort()\n",
        "  for parent in parentid:\n",
        "    parent_path=os.path.join(name_path,parent)\n",
        "    items=os.listdir(parent_path)\n",
        "    items=np.array(items)\n",
        "    items.reshape(1,-1)\n",
        "    for item in items:\n",
        "      file=os.path.join(parent_path,item)\n",
        "      image=cv2.imread(file)\n",
        "      image = cv2.resize(image, fixed_size)\n",
        "      frame = cv2.cvtColor(image, cv2.COLOR_BGR2GRAY)\n",
        "      ret,img = cv2.threshold(frame,thresh,255,0)\n",
        "      feature=extract_feature(img)\n",
        "      global_features.append(feature)\n",
        "      labels.append(parent)\n",
        "    print(\"[STATUS] processed folder: {}\".format(parent))\n",
        "  print(\"[STATUS] processed folder: {}\".format(name))\n",
        "\n",
        "\n",
        "\n"
      ],
      "execution_count": null,
      "outputs": [
        {
          "output_type": "stream",
          "text": [
            "[STATUS] processed folder: down\n",
            "[STATUS] processed folder: left\n",
            "[STATUS] processed folder: right\n",
            "[STATUS] processed folder: up\n",
            "[STATUS] processed folder: quynh\n",
            "[STATUS] processed folder: down\n",
            "[STATUS] processed folder: left\n",
            "[STATUS] processed folder: right\n",
            "[STATUS] processed folder: up\n",
            "[STATUS] processed folder: san\n",
            "[STATUS] processed folder: right\n",
            "[STATUS] processed folder: up\n",
            "[STATUS] processed folder: tri\n",
            "[STATUS] processed folder: down\n",
            "[STATUS] processed folder: left\n",
            "[STATUS] processed folder: right\n",
            "[STATUS] processed folder: up\n",
            "[STATUS] processed folder: trung\n"
          ],
          "name": "stdout"
        }
      ]
    },
    {
      "cell_type": "code",
      "metadata": {
        "id": "3c0Zrq9_GRF9",
        "colab_type": "code",
        "colab": {}
      },
      "source": [
        "h5_data          = '/content/drive/My Drive/input/data.h5'\n",
        "h5_labels       = '/content/drive/My Drive/input/labels.h5'"
      ],
      "execution_count": null,
      "outputs": []
    },
    {
      "cell_type": "code",
      "metadata": {
        "id": "ld_ykzLHGTBp",
        "colab_type": "code",
        "colab": {
          "base_uri": "https://localhost:8080/",
          "height": 118
        },
        "outputId": "fee26a5b-bb22-4e21-87e2-528803cad370"
      },
      "source": [
        "\n",
        "# get the overall feature vector size\n",
        "print(\"[STATUS] feature vector size {}\".format(np.array(global_features).shape))\n",
        "\n",
        "# get the overall training label size\n",
        "print(\"[STATUS] training Labels {}\".format(np.array(labels).shape))\n",
        "\n",
        "# encode the target labels\n",
        "targetNames = np.unique(labels)\n",
        "le          = LabelEncoder()\n",
        "target      = le.fit_transform(labels)\n",
        "print(\"[STATUS] training labels encoded...\")\n",
        "\n",
        "\n",
        "\n",
        "print(\"[STATUS] target labels: {}\".format(target))\n",
        "print(\"[STATUS] target labels shape: {}\".format(target.shape))\n",
        "\n",
        "\n",
        "# save the feature vector using HDF5\n",
        "h5f_data = h5py.File(h5_data, 'w')\n",
        "h5f_data.create_dataset('dataset_1', data=np.array(global_features))\n",
        "\n",
        "h5f_label = h5py.File(h5_labels, 'w')\n",
        "h5f_label.create_dataset('dataset_1', data=np.array(target))\n",
        "\n",
        "h5f_data.close()\n",
        "h5f_label.close()\n",
        "\n",
        "print(\"[STATUS] end of training..\")"
      ],
      "execution_count": null,
      "outputs": [
        {
          "output_type": "stream",
          "text": [
            "[STATUS] feature vector size (14800, 2918)\n",
            "[STATUS] training Labels (14800,)\n",
            "[STATUS] training labels encoded...\n",
            "[STATUS] target labels: [0 0 0 ... 3 3 3]\n",
            "[STATUS] target labels shape: (14800,)\n",
            "[STATUS] end of training..\n"
          ],
          "name": "stdout"
        }
      ]
    },
    {
      "cell_type": "code",
      "metadata": {
        "id": "9FE8iIloGUfK",
        "colab_type": "code",
        "colab": {
          "base_uri": "https://localhost:8080/",
          "height": 67
        },
        "outputId": "191ae32f-0963-4ed1-a0da-9f5684a93f89"
      },
      "source": [
        "h5f_data  = h5py.File(h5_data, 'r')\n",
        "h5f_label = h5py.File(h5_labels, 'r')\n",
        "\n",
        "global_features_string = h5f_data['dataset_1']\n",
        "global_labels_string   = h5f_label['dataset_1']\n",
        "\n",
        "global_features = np.array(global_features_string)\n",
        "global_labels   = np.array(global_labels_string)\n",
        "\n",
        "h5f_data.close()\n",
        "h5f_label.close()\n",
        "\n",
        "# verify the shape of the feature vector and labels\n",
        "print(\"[STATUS] features shape: {}\".format(global_features.shape))\n",
        "print(\"[STATUS] labels shape: {}\".format(global_labels.shape))\n",
        "\n",
        "print(\"[STATUS] training started...\")"
      ],
      "execution_count": null,
      "outputs": [
        {
          "output_type": "stream",
          "text": [
            "[STATUS] features shape: (14800, 2918)\n",
            "[STATUS] labels shape: (14800,)\n",
            "[STATUS] training started...\n"
          ],
          "name": "stdout"
        }
      ]
    },
    {
      "cell_type": "code",
      "metadata": {
        "id": "MxP6tQeHGWLb",
        "colab_type": "code",
        "colab": {
          "base_uri": "https://localhost:8080/",
          "height": 101
        },
        "outputId": "b2d109d1-e297-4fe4-b4d7-de76eb788bf1"
      },
      "source": [
        "\n",
        "(trainDataGlobal, testDataGlobal, trainLabelsGlobal, testLabelsGlobal) = train_test_split(np.array(global_features),\n",
        "                                                                                          np.array(global_labels),\n",
        "                                                                                          test_size=0.2,\n",
        "                                                                                          random_state=42)\n",
        "\n",
        "print(\"[STATUS] splitted train and test data...\")\n",
        "print(\"Train data  : {}\".format(trainDataGlobal.shape))\n",
        "print(\"Test data   : {}\".format(testDataGlobal.shape))\n",
        "print(\"Train labels: {}\".format(trainLabelsGlobal.shape))\n",
        "print(\"Test labels : {}\".format(testLabelsGlobal.shape))"
      ],
      "execution_count": null,
      "outputs": [
        {
          "output_type": "stream",
          "text": [
            "[STATUS] splitted train and test data...\n",
            "Train data  : (11840, 2918)\n",
            "Test data   : (2960, 2918)\n",
            "Train labels: (11840,)\n",
            "Test labels : (2960,)\n"
          ],
          "name": "stdout"
        }
      ]
    },
    {
      "cell_type": "code",
      "metadata": {
        "id": "HJbacoGBGX1J",
        "colab_type": "code",
        "colab": {
          "base_uri": "https://localhost:8080/",
          "height": 395
        },
        "outputId": "42f00df6-453d-4ad4-836a-084d20fae754"
      },
      "source": [
        "\n",
        "scoring    = \"accuracy\"\n",
        "seed=9\n",
        "num_trees=100\n",
        "models = []\n",
        "models.append(('LR', LogisticRegression(random_state=seed)))\n",
        "models.append(('LDA', LinearDiscriminantAnalysis()))\n",
        "models.append(('KNN', KNeighborsClassifier()))\n",
        "models.append(('CART', DecisionTreeClassifier(random_state=seed)))\n",
        "models.append(('RF', RandomForestClassifier(n_estimators=num_trees, random_state=seed)))\n",
        "models.append(('NB', GaussianNB()))\n",
        "\n",
        "# variables to hold the results and names\n",
        "results = []\n",
        "names   = []\n",
        "for name, model in models:\n",
        "    kfold = KFold(n_splits=10, random_state=seed)\n",
        "    cv_results = cross_val_score(model,trainDataGlobal, trainLabelsGlobal, cv=kfold, scoring=scoring)\n",
        "    results.append(cv_results)\n",
        "    names.append(name)\n",
        "    msg = \"%s: %f (%f)\" % (name, cv_results.mean(), cv_results.std())\n",
        "    print(msg)\n",
        "\n",
        "# boxplot algorithm comparison\n",
        "fig = pyplot.figure()\n",
        "fig.suptitle('Machine Learning algorithm comparison')\n",
        "ax = fig.add_subplot(111)\n",
        "pyplot.boxplot(results)\n",
        "ax.set_xticklabels(names)\n",
        "pyplot.show()"
      ],
      "execution_count": null,
      "outputs": [
        {
          "output_type": "stream",
          "text": [
            "LR: 0.999747 (0.000387)\n",
            "LDA: 0.999916 (0.000253)\n",
            "KNN: 0.999831 (0.000507)\n",
            "CART: 0.995439 (0.002483)\n",
            "RF: 0.999916 (0.000253)\n",
            "NB: 0.991301 (0.002535)\n"
          ],
          "name": "stdout"
        },
        {
          "output_type": "display_data",
          "data": {
            "image/png": "[encoded data removed]",
            "text/plain": [
              "<Figure size 432x288 with 1 Axes>"
            ]
          },
          "metadata": {
            "tags": [],
            "needs_background": "light"
          }
        }
      ]
    },
    {
      "cell_type": "code",
      "metadata": {
        "id": "kT1y1TcjGZX9",
        "colab_type": "code",
        "colab": {
          "base_uri": "https://localhost:8080/",
          "height": 1000
        },
        "outputId": "f24001bd-5926-4fe9-de79-17d66ffa094c"
      },
      "source": [
        "from sklearn.metrics import accuracy_score\n",
        "from sklearn.metrics import confusion_matrix\n",
        "from sklearn.metrics import precision_recall_curve\n",
        "from sklearn.metrics import average_precision_score\n",
        "from sklearn.metrics import precision_recall_fscore_support as score\n",
        "\n",
        "print(\"\\n=====================LogisticRegression======================\\n\")\n",
        "model1=LogisticRegression()\n",
        "model1.fit(trainDataGlobal,trainLabelsGlobal)\n",
        "y_pred1 = model1.predict(testDataGlobal)\n",
        "print('accuracy = ',accuracy_score(testLabelsGlobal, y_pred1))\n",
        "\n",
        "cnf_matrix1 = confusion_matrix(testLabelsGlobal, y_pred1)\n",
        "print('Confusion matrix:')\n",
        "print(cnf_matrix1)\n",
        "# y_score = model1.decision_function(x_val)\n",
        "precision, recall, fscore, support = score(testLabelsGlobal, y_pred1)\n",
        "\n",
        "print('precision: {}'.format(precision))\n",
        "print('recall: {}'.format(recall))\n",
        "print('fscore: {}'.format(fscore))\n",
        "print('support: {}'.format(support))\n",
        "\n",
        "#####\n",
        "print(\"\\n=====================LinearDiscriminantAnalysis======================\\n\")\n",
        "model2=LinearDiscriminantAnalysis()\n",
        "model2.fit(trainDataGlobal,trainLabelsGlobal)\n",
        "y_pred2 = model2.predict(testDataGlobal)\n",
        "print('accuracy = ',accuracy_score(testLabelsGlobal, y_pred2))\n",
        "\n",
        "cnf_matrix2 = confusion_matrix(testLabelsGlobal, y_pred2)\n",
        "print('Confusion matrix:')\n",
        "print(cnf_matrix2)\n",
        "# y_score = model1.decision_function(x_val)\n",
        "precision, recall, fscore, support = score(testLabelsGlobal, y_pred2)\n",
        "\n",
        "print('precision: {}'.format(precision))\n",
        "print('recall: {}'.format(recall))\n",
        "print('fscore: {}'.format(fscore))\n",
        "print('support: {}'.format(support))\n",
        "\n",
        "print(\"\\n=====================KNeighborsClassifier======================\\n\")\n",
        "\n",
        "####\n",
        "model3=KNeighborsClassifier(n_neighbors=5)\n",
        "model3.fit(trainDataGlobal,trainLabelsGlobal)\n",
        "y_pred3 = model3.predict(testDataGlobal)\n",
        "print('accuracy = ',accuracy_score(testLabelsGlobal, y_pred3))\n",
        "\n",
        "cnf_matrix3 = confusion_matrix(testLabelsGlobal, y_pred3)\n",
        "print('Confusion matrix:')\n",
        "print(cnf_matrix3)\n",
        "# y_score = model1.decision_function(x_val)\n",
        "precision, recall, fscore, support = score(testLabelsGlobal, y_pred3)\n",
        "\n",
        "print('precision: {}'.format(precision))\n",
        "print('recall: {}'.format(recall))\n",
        "print('fscore: {}'.format(fscore))\n",
        "print('support: {}'.format(support))\n",
        "\n",
        "\n",
        "####\n",
        "print(\"\\n=====================DecisionTreeClassifier======================\\n\")\n",
        "\n",
        "model4= DecisionTreeClassifier()\n",
        "model4.fit(trainDataGlobal,trainLabelsGlobal)\n",
        "y_pred4 = model4.predict(testDataGlobal)\n",
        "print('accuracy = ',accuracy_score(testLabelsGlobal, y_pred4))\n",
        "\n",
        "cnf_matrix4 = confusion_matrix(testLabelsGlobal, y_pred4)\n",
        "print('Confusion matrix:')\n",
        "print(cnf_matrix4)\n",
        "# y_score = model1.decision_function(x_val)\n",
        "precision, recall, fscore, support = score(testLabelsGlobal, y_pred4)\n",
        "\n",
        "print('precision: {}'.format(precision))\n",
        "print('recall: {}'.format(recall))\n",
        "print('fscore: {}'.format(fscore))\n",
        "print('support: {}'.format(support))\n",
        "\n",
        "\n",
        "###\n",
        "print(\"\\n=====================RandomForestClassifier======================\\n\")\n",
        "\n",
        "model5=RandomForestClassifier(n_estimators=100,random_state=0)\n",
        "model5.fit(trainDataGlobal,trainLabelsGlobal)\n",
        "y_pred5 = model5.predict(testDataGlobal)\n",
        "print('accuracy = ',accuracy_score(testLabelsGlobal, y_pred5))\n",
        "\n",
        "cnf_matrix5 = confusion_matrix(testLabelsGlobal, y_pred5)\n",
        "print('Confusion matrix:')\n",
        "print(cnf_matrix5)\n",
        "# y_score = model1.decision_function(x_val)\n",
        "precision, recall, fscore, support = score(testLabelsGlobal, y_pred5)\n",
        "\n",
        "print('precision: {}'.format(precision))\n",
        "print('recall: {}'.format(recall))\n",
        "print('fscore: {}'.format(fscore))\n",
        "print('support: {}'.format(support))\n",
        "\n",
        "\n",
        "####\n",
        "print(\"\\n=====================GaussianNB======================\\n\")\n",
        "\n",
        "model6=GaussianNB()\n",
        "model6.fit(trainDataGlobal,trainLabelsGlobal)\n",
        "y_pred6 = model6.predict(testDataGlobal)\n",
        "print('accuracy = ',accuracy_score(testLabelsGlobal, y_pred6))\n",
        "\n",
        "cnf_matrix6 = confusion_matrix(testLabelsGlobal, y_pred6)\n",
        "print('Confusion matrix:')\n",
        "print(cnf_matrix6)\n",
        "# y_score = model1.decision_function(x_val)\n",
        "precision, recall, fscore, support = score(testLabelsGlobal, y_pred6)\n",
        "\n",
        "print('precision: {}'.format(precision))\n",
        "print('recall   : {}'.format(recall))\n",
        "print('fscore   : {}'.format(fscore))\n",
        "print('support  : {}'.format(support))\n",
        "\n",
        "\n",
        "\n",
        "\n"
      ],
      "execution_count": null,
      "outputs": [
        {
          "output_type": "stream",
          "text": [
            "\n",
            "=====================LogisticRegression======================\n",
            "\n",
            "accuracy =  1.0\n",
            "Confusion matrix:\n",
            "[[748   0   0   0]\n",
            " [  0 768   0   0]\n",
            " [  0   0 680   0]\n",
            " [  0   0   0 764]]\n",
            "precision: [1. 1. 1. 1.]\n",
            "recall: [1. 1. 1. 1.]\n",
            "fscore: [1. 1. 1. 1.]\n",
            "support: [748 768 680 764]\n",
            "\n",
            "=====================LinearDiscriminantAnalysis======================\n",
            "\n",
            "accuracy =  0.9996621621621622\n",
            "Confusion matrix:\n",
            "[[748   0   0   0]\n",
            " [  0 768   0   0]\n",
            " [  0   0 680   0]\n",
            " [  1   0   0 763]]\n",
            "precision: [0.99866489 1.         1.         1.        ]\n",
            "recall: [1.        1.        1.        0.9986911]\n",
            "fscore: [0.999332   1.         1.         0.99934512]\n",
            "support: [748 768 680 764]\n",
            "\n",
            "=====================KNeighborsClassifier======================\n",
            "\n",
            "accuracy =  1.0\n",
            "Confusion matrix:\n",
            "[[748   0   0   0]\n",
            " [  0 768   0   0]\n",
            " [  0   0 680   0]\n",
            " [  0   0   0 764]]\n",
            "precision: [1. 1. 1. 1.]\n",
            "recall: [1. 1. 1. 1.]\n",
            "fscore: [1. 1. 1. 1.]\n",
            "support: [748 768 680 764]\n",
            "\n",
            "=====================DecisionTreeClassifier======================\n",
            "\n",
            "accuracy =  0.9976351351351351\n",
            "Confusion matrix:\n",
            "[[746   2   0   0]\n",
            " [  1 767   0   0]\n",
            " [  0   0 679   1]\n",
            " [  1   0   2 761]]\n",
            "precision: [0.9973262  0.99739922 0.99706314 0.99868766]\n",
            "recall: [0.9973262  0.99869792 0.99852941 0.9960733 ]\n",
            "fscore: [0.9973262  0.99804815 0.99779574 0.99737877]\n",
            "support: [748 768 680 764]\n",
            "\n",
            "=====================RandomForestClassifier======================\n",
            "\n",
            "accuracy =  1.0\n",
            "Confusion matrix:\n",
            "[[748   0   0   0]\n",
            " [  0 768   0   0]\n",
            " [  0   0 680   0]\n",
            " [  0   0   0 764]]\n",
            "precision: [1. 1. 1. 1.]\n",
            "recall: [1. 1. 1. 1.]\n",
            "fscore: [1. 1. 1. 1.]\n",
            "support: [748 768 680 764]\n",
            "\n",
            "=====================GaussianNB======================\n",
            "\n",
            "accuracy =  0.9935810810810811\n",
            "Confusion matrix:\n",
            "[[747   0   1   0]\n",
            " [  3 763   2   0]\n",
            " [  0   6 673   1]\n",
            " [  0   6   0 758]]\n",
            "precision: [0.996      0.98451613 0.99556213 0.99868248]\n",
            "recall   : [0.9986631  0.99348958 0.98970588 0.9921466 ]\n",
            "fscore   : [0.99732977 0.9889825  0.99262537 0.99540381]\n",
            "support  : [748 768 680 764]\n"
          ],
          "name": "stdout"
        }
      ]
    },
    {
      "cell_type": "code",
      "metadata": {
        "id": "PHlCBi1fGbRN",
        "colab_type": "code",
        "colab": {
          "base_uri": "https://localhost:8080/"
        },
        "outputId": "f8210a77-a6c0-4682-a185-f206fce97019"
      },
      "source": [
        "\n",
        "from joblib import dump\n",
        "dump(model5, 'weight_scale.joblib') \n",
        "\n",
        "\n"
      ],
      "execution_count": null,
      "outputs": [
        {
          "output_type": "execute_result",
          "data": {
            "text/plain": [
              "['weight_scale.joblib']"
            ]
          },
          "metadata": {
            "tags": []
          },
          "execution_count": 12
        }
      ]
    },
    {
      "cell_type": "code",
      "metadata": {
        "id": "8YyB0yQsiJJs",
        "colab_type": "code",
        "colab": {}
      },
      "source": [
        ""
      ],
      "execution_count": null,
      "outputs": []
    }
  ]
}