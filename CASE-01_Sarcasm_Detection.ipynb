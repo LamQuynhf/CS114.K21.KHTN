{
  "nbformat": 4,
  "nbformat_minor": 0,
  "metadata": {
    "colab": {
      "name": "Sarcasm Detection",
      "provenance": [],
      "collapsed_sections": [
        "B4cxqEpZox9e"
      ],
      "toc_visible": true,
      "include_colab_link": true
    },
    "kernelspec": {
      "name": "python3",
      "display_name": "Python 3"
    },
    "accelerator": "TPU"
  },
  "cells": [
    {
      "cell_type": "markdown",
      "metadata": {
        "id": "view-in-github",
        "colab_type": "text"
      },
      "source": [
        "<a href=\"https://colab.research.google.com/github/LamQuynhf/CS114.K21.KHTN/blob/master/Sarcasm_Detection.ipynb\" target=\"_parent\"><img src=\"https://colab.research.google.com/assets/colab-badge.svg\" alt=\"Open In Colab\"/></a>"
      ]
    },
    {
      "cell_type": "markdown",
      "metadata": {
        "id": "i619uUFspnoY",
        "colab_type": "text"
      },
      "source": [
        "#Case Study: Sarcasm Headline Detection\n",
        "- Nguyễn Khánh Toàn - 18521509\n",
        "- Nguyễn Lâm Quỳnh - 18521326"
      ]
    },
    {
      "cell_type": "markdown",
      "metadata": {
        "id": "syoZZBb9oXyT",
        "colab_type": "text"
      },
      "source": [
        "# Crawl Data"
      ]
    },
    {
      "cell_type": "markdown",
      "metadata": {
        "id": "B4cxqEpZox9e",
        "colab_type": "text"
      },
      "source": [
        "##Sarcasm Title from https://www.theonion.com/"
      ]
    },
    {
      "cell_type": "markdown",
      "metadata": {
        "id": "y7aTsYJ6o6Wb",
        "colab_type": "text"
      },
      "source": [
        "Using \n",
        "\n",
        "1.   Requests to get data from Website\n",
        "2.   BeatifulSoup to get PostIndex from data\n",
        "3.   Newspaper.Article to get Title\n",
        "\n"
      ]
    },
    {
      "cell_type": "code",
      "metadata": {
        "id": "i0G_qwShoxM3",
        "colab_type": "code",
        "colab": {}
      },
      "source": [
        "!pip install newspaper3k"
      ],
      "execution_count": null,
      "outputs": []
    },
    {
      "cell_type": "code",
      "metadata": {
        "id": "L8s_zwFjpdi-",
        "colab_type": "code",
        "colab": {}
      },
      "source": [
        "import requests\n",
        "from bs4 import BeautifulSoup \n",
        "from newspaper import Article\n",
        "post_ids = set()\n",
        "def get_html(url):  \n",
        "  \"\"\"get the content of the url\"\"\"  \n",
        "  response = requests.get(url)\n",
        "  response.encoding = 'utf-8'  \n",
        "  return response.text  \n",
        "\n",
        "\n",
        "def get_pmid(html):\n",
        "    all_ids = set()\n",
        "    soup = BeautifulSoup(html, 'lxml') \n",
        "    for id_tag in soup.find_all('article'):\n",
        "        start = str(id_tag).find(\"data-id=\")\n",
        "        if len(post_ids) < 1000:\n",
        "            post_ids.add(str(id_tag)[start+9:start+19])\n",
        "index = 1\n",
        "while len(post_ids)<1000:\n",
        "    url_ncbi = \"https://www.theonion.com/tag/news-in-brief?startIndex={}\".format(index)  \n",
        "    html = get_html(url_ncbi)\n",
        "    get_pmid(html)\n",
        "    index+=20"
      ],
      "execution_count": null,
      "outputs": []
    },
    {
      "cell_type": "code",
      "metadata": {
        "id": "uQJ46nhirZUL",
        "colab_type": "code",
        "colab": {}
      },
      "source": [
        "from newspaper import Article\n",
        "fi = open('/content/drive/My Drive/Datasets/1-sarcasm.txt','w')\n",
        "\n",
        "for id in post_ids:\n",
        "    url = 'https://www.theonion.com/'+id\n",
        "    article = Article(url)\n",
        "    article.download()\n",
        "    article.parse()\n",
        "    fi.write(article.title+'\\n')\n",
        "fi.close()\n"
      ],
      "execution_count": null,
      "outputs": []
    },
    {
      "cell_type": "markdown",
      "metadata": {
        "id": "yYib1KU9s0zJ",
        "colab_type": "text"
      },
      "source": [
        "##Non-Sarcasm Title: Using Scraper Extension\n"
      ]
    },
    {
      "cell_type": "code",
      "metadata": {
        "id": "jxl5aRB2pMcX",
        "colab_type": "code",
        "colab": {
          "base_uri": "https://localhost:8080/",
          "height": 119
        },
        "outputId": "f145a41b-e84c-48a4-ba19-f4a116ef7565"
      },
      "source": [
        "from google.colab import drive\n",
        "drive.mount('/content/drive')"
      ],
      "execution_count": null,
      "outputs": [
        {
          "output_type": "stream",
          "text": [
            "Go to this URL in a browser: https://accounts.google.com/o/oauth2/auth?client_id=947318989803-6bn6qk8qdgf4n4g3pfee6491hc0brc4i.apps.googleusercontent.com&redirect_uri=urn%3aietf%3awg%3aoauth%3a2.0%3aoob&response_type=code&scope=email%20https%3a%2f%2fwww.googleapis.com%2fauth%2fdocs.test%20https%3a%2f%2fwww.googleapis.com%2fauth%2fdrive%20https%3a%2f%2fwww.googleapis.com%2fauth%2fdrive.photos.readonly%20https%3a%2f%2fwww.googleapis.com%2fauth%2fpeopleapi.readonly\n",
            "\n",
            "Enter your authorization code:\n",
            "··········\n",
            "Mounted at /content/drive\n"
          ],
          "name": "stdout"
        }
      ]
    },
    {
      "cell_type": "code",
      "metadata": {
        "id": "_tI8QX_Cs6Wf",
        "colab_type": "code",
        "colab": {}
      },
      "source": [
        "nonsarcasm_title = []\n",
        "sarcasm_title = []\n",
        "f0 = open('/content/drive/My Drive/Datasets/0-sarcasm.txt','r')\n",
        "f1 = open('/content/drive/My Drive/Datasets/1-sarcasm.txt','r')\n",
        "for line in f0:\n",
        "    nonsarcasm_title.append(line)\n",
        "for line in f1:\n",
        "    sarcasm_title.append(line)\n",
        "f0.close()\n",
        "f1.close()"
      ],
      "execution_count": null,
      "outputs": []
    },
    {
      "cell_type": "markdown",
      "metadata": {
        "id": "nwcChnDD2WIc",
        "colab_type": "text"
      },
      "source": [
        "## "
      ]
    },
    {
      "cell_type": "code",
      "metadata": {
        "id": "VB1aULvMDPgW",
        "colab_type": "code",
        "colab": {}
      },
      "source": [
        "import pandas as pd\n",
        "d = {'headline': nonsarcasm_title + sarcasm_title, 'is_sarcastic': [0]*1000+[1]*1000}\n",
        "data_test = pd.DataFrame(data=d)"
      ],
      "execution_count": null,
      "outputs": []
    },
    {
      "cell_type": "markdown",
      "metadata": {
        "id": "TZinKk5LodZ3",
        "colab_type": "text"
      },
      "source": [
        "#Train and Test"
      ]
    },
    {
      "cell_type": "code",
      "metadata": {
        "id": "vcXamqrsbbCm",
        "colab_type": "code",
        "colab": {}
      },
      "source": [
        "import numpy as np\n",
        "import re, time\n",
        "from nltk.stem.porter import PorterStemmer\n",
        "from sklearn.model_selection import train_test_split\n",
        "from sklearn.metrics import confusion_matrix\n",
        "from sklearn.svm import LinearSVC\n",
        "from sklearn.model_selection import cross_val_score\n",
        "from sklearn.naive_bayes import GaussianNB\n",
        "from sklearn.linear_model import LogisticRegression\n",
        "from sklearn.ensemble import RandomForestClassifier"
      ],
      "execution_count": null,
      "outputs": []
    },
    {
      "cell_type": "code",
      "metadata": {
        "id": "ZCYJH8ULT3Rp",
        "colab_type": "code",
        "colab": {}
      },
      "source": [
        "data_train = pd.read_json('/content/drive/My Drive/Datasets/30764_533474_compressed_Sarcasm_Headlines_Dataset.json.zip', lines=True)"
      ],
      "execution_count": null,
      "outputs": []
    },
    {
      "cell_type": "markdown",
      "metadata": {
        "id": "jd0E6c7CbvMO",
        "colab_type": "text"
      },
      "source": [
        "##Cleaning the data:\n",
        "\n",
        "Although, it looks that our data is clean but the headline column has some special symbols that have to be eliminated.\n",
        "\n",
        "So, we are using Regular Expression to eliminate special symbols."
      ]
    },
    {
      "cell_type": "code",
      "metadata": {
        "id": "FUCLwREEbecD",
        "colab_type": "code",
        "colab": {}
      },
      "source": [
        "# Relacing special symbols and digits in headline column\n",
        "# re stands for Regular Expression\n",
        "data_train['headline'] = data_train['headline'].apply(lambda s : re.sub('[^a-zA-Z]', ' ', s))\n",
        "data_test['headline']  =  data_test['headline'].apply(lambda s : re.sub('[^a-zA-Z]', ' ', s))"
      ],
      "execution_count": null,
      "outputs": []
    },
    {
      "cell_type": "markdown",
      "metadata": {
        "id": "omHNynNkc9i6",
        "colab_type": "text"
      },
      "source": [
        "##Feature and label extraction:\n",
        "\n",
        "It’s time to extract features and labels out of our data. It seems that we may consider article_link and headline as features. But, article_link doesn’t play an important role in predicting the label. \n",
        "\n",
        "So, the only feature that we have is the headline column. And is_sarcastic is the only label."
      ]
    },
    {
      "cell_type": "code",
      "metadata": {
        "id": "IAr3uw1JbuXK",
        "colab_type": "code",
        "colab": {}
      },
      "source": [
        "# getting features and labels\n",
        "features_train = data_train['headline']\n",
        "labels_train = data_train['is_sarcastic']\n",
        "\n",
        "features_test = data_test['headline']\n",
        "labels_test = data_test['is_sarcastic']"
      ],
      "execution_count": null,
      "outputs": []
    },
    {
      "cell_type": "markdown",
      "metadata": {
        "id": "r3HqRpeRdJwK",
        "colab_type": "text"
      },
      "source": [
        "##Stemming of features:\n",
        "\n",
        "Stemming is the process of reducing a word to its word stem that affixes to suffixes and prefixes or the roots of words known as a lemma. Stemming is important in natural language understanding (NLU) and natural language processing (NLP).\n",
        "\n",
        "for example:-\n",
        "\n",
        "original word: “reading” and “reader”.\n",
        "\n",
        "after stemming: read (for all the above two words)."
      ]
    },
    {
      "cell_type": "code",
      "metadata": {
        "id": "47NUDW90inRq",
        "colab_type": "code",
        "colab": {}
      },
      "source": [
        "# Đưa các từ về nghĩa gốc\n",
        "ps = PorterStemmer()\n",
        "features_train = features_train.apply(lambda x: x.split())\n",
        "features_train = features_train.apply(lambda x : ' '.join([ps.stem(word) for word in x]))\n",
        "\n",
        "features_test = features_test.apply(lambda x: x.split())\n",
        "features_test = features_test.apply(lambda x : ' '.join([ps.stem(word) for word in x]))"
      ],
      "execution_count": null,
      "outputs": []
    },
    {
      "cell_type": "markdown",
      "metadata": {
        "id": "iF41U7Srip86",
        "colab_type": "text"
      },
      "source": [
        "## Vector hoá các Features"
      ]
    },
    {
      "cell_type": "code",
      "metadata": {
        "id": "ZHcI1MGkixe3",
        "colab_type": "code",
        "colab": {}
      },
      "source": [
        "from sklearn.feature_extraction.text import CountVectorizer, TfidfVectorizer\n",
        "#\n",
        "vectorizer1 = CountVectorizer(analyzer='word',ngram_range=(1,1), max_features=10000) \n",
        "features_train = vectorizer1.fit_transform(features_train) \n",
        "\n",
        "vectorizer2 = CountVectorizer(vocabulary=vectorizer1.vocabulary_,ngram_range=(1,1)) \n",
        "features_test = vectorizer2.fit_transform(features_test) "
      ],
      "execution_count": null,
      "outputs": []
    },
    {
      "cell_type": "markdown",
      "metadata": {
        "id": "xe7vsXgVi0ap",
        "colab_type": "text"
      },
      "source": [
        "##Training and Testing data:-"
      ]
    },
    {
      "cell_type": "markdown",
      "metadata": {
        "id": "OQfS2jkPi-lg",
        "colab_type": "text"
      },
      "source": [
        "##Training and testing of models:\n",
        "Sử dụng các thuật toán ML\n"
      ]
    },
    {
      "cell_type": "markdown",
      "metadata": {
        "id": "xGG2eznujVBa",
        "colab_type": "text"
      },
      "source": [
        "###Model 1: linear support vector classifier\n",
        "\n",
        "\n"
      ]
    },
    {
      "cell_type": "code",
      "metadata": {
        "id": "kePNgR75jSK3",
        "colab_type": "code",
        "colab": {
          "base_uri": "https://localhost:8080/",
          "height": 50
        },
        "outputId": "33411ca9-4781-4cb9-a0ea-cdfe830d5275"
      },
      "source": [
        "lsvc = LinearSVC()\n",
        "lsvc.fit(features_train, labels_train)\n",
        "\n",
        "lsvc_train = lsvc.score(features_train, labels_train)\n",
        "lsvc_test = lsvc.score(features_test, labels_test)\n",
        "\n",
        "print(lsvc_train)\n",
        "print(lsvc_test)"
      ],
      "execution_count": null,
      "outputs": [
        {
          "output_type": "stream",
          "text": [
            "0.9601258002920364\n",
            "0.8695\n"
          ],
          "name": "stdout"
        }
      ]
    },
    {
      "cell_type": "markdown",
      "metadata": {
        "id": "MANYjPJIjbu7",
        "colab_type": "text"
      },
      "source": [
        "###Model 2: Gaussuan Naive Bayes"
      ]
    },
    {
      "cell_type": "code",
      "metadata": {
        "id": "lJ2LcgmBjd-N",
        "colab_type": "code",
        "colab": {
          "base_uri": "https://localhost:8080/",
          "height": 50
        },
        "outputId": "266a1c85-ee97-4df9-86e2-c4cf9a495d14"
      },
      "source": [
        "gnb = GaussianNB()\n",
        "gnb.fit(features_train.toarray(), labels_train)\n",
        "\n",
        "gnb_train = gnb.score(features_train.toarray(), labels_train)  \n",
        "gnb_test = gnb.score(features_test.toarray(), labels_test)\n",
        "\n",
        "print(gnb_train)\n",
        "print(gnb_test)"
      ],
      "execution_count": null,
      "outputs": [
        {
          "output_type": "stream",
          "text": [
            "0.8390430192070089\n",
            "0.7745\n"
          ],
          "name": "stdout"
        }
      ]
    },
    {
      "cell_type": "markdown",
      "metadata": {
        "id": "9ixMsEBrjfzg",
        "colab_type": "text"
      },
      "source": [
        "###Model 3: Logistic Regression"
      ]
    },
    {
      "cell_type": "code",
      "metadata": {
        "id": "Ng2lC6JrjibY",
        "colab_type": "code",
        "colab": {
          "base_uri": "https://localhost:8080/",
          "height": 182
        },
        "outputId": "e6d4a69a-c55d-462f-9572-866afe2e2ef9"
      },
      "source": [
        "lr = LogisticRegression()\n",
        "lr.fit(features_train, labels_train)\n",
        "\n",
        "lr_train = lr.score(features_train, labels_train)\n",
        "lr_test = lr.score(features_test, labels_test)\n",
        "\n",
        "print(lr_train)\n",
        "print(lr_test)"
      ],
      "execution_count": null,
      "outputs": [
        {
          "output_type": "stream",
          "text": [
            "0.9239956568946797\n",
            "0.8645\n"
          ],
          "name": "stdout"
        },
        {
          "output_type": "stream",
          "text": [
            "/usr/local/lib/python3.6/dist-packages/sklearn/linear_model/_logistic.py:940: ConvergenceWarning: lbfgs failed to converge (status=1):\n",
            "STOP: TOTAL NO. of ITERATIONS REACHED LIMIT.\n",
            "\n",
            "Increase the number of iterations (max_iter) or scale the data as shown in:\n",
            "    https://scikit-learn.org/stable/modules/preprocessing.html\n",
            "Please also refer to the documentation for alternative solver options:\n",
            "    https://scikit-learn.org/stable/modules/linear_model.html#logistic-regression\n",
            "  extra_warning_msg=_LOGISTIC_SOLVER_CONVERGENCE_MSG)\n"
          ],
          "name": "stderr"
        }
      ]
    },
    {
      "cell_type": "markdown",
      "metadata": {
        "id": "f2R9AWw9jjYx",
        "colab_type": "text"
      },
      "source": [
        "###Model 4: Random Forest Classifier"
      ]
    },
    {
      "cell_type": "code",
      "metadata": {
        "id": "QzrieWXYi-EA",
        "colab_type": "code",
        "colab": {
          "base_uri": "https://localhost:8080/",
          "height": 50
        },
        "outputId": "1c84658f-b8f9-4fdf-b456-4f3a8e0b4d20"
      },
      "source": [
        "rfc = RandomForestClassifier(n_estimators = 10, random_state = 0)\n",
        "rfc.fit(features_train, labels_train)\n",
        "\n",
        "rfc_train = rfc.score(features_train, labels_train)\n",
        "rfc_test = rfc.score(features_test, labels_test)   \n",
        "\n",
        "print(rfc_train)\n",
        "print(rfc_test)"
      ],
      "execution_count": null,
      "outputs": [
        {
          "output_type": "stream",
          "text": [
            "0.9887303905050732\n",
            "0.914\n"
          ],
          "name": "stdout"
        }
      ]
    },
    {
      "cell_type": "code",
      "metadata": {
        "id": "ZLoPXU5on7fw",
        "colab_type": "code",
        "colab": {
          "base_uri": "https://localhost:8080/",
          "height": 99
        },
        "outputId": "ac848bc2-9464-4ef4-b570-2e372d9bf40f"
      },
      "source": [
        "def test(title):\n",
        "    title =title.split()\n",
        "    title = ' '.join([ps.stem(word) for word in title])\n",
        "    \n",
        "    print(\"LSVC: \", lsvc.predict(vectorizer2.transform([title])))\n",
        "    print(\"GNB: \", gnb.predict(vectorizer2.transform([title]).toarray()))\n",
        "    print(\"LR: \", lr.predict(vectorizer2.transform([title])))\n",
        "    print(\"RFC: \", rfc.predict(vectorizer2.transform([title])))\n",
        "\n",
        "title = input()\n",
        "test(title)"
      ],
      "execution_count": null,
      "outputs": [
        {
          "output_type": "stream",
          "text": [
            "Roommate Skulking Around Edge Of Party Like Victorian Ghost Child\n",
            "LSVC:  [1]\n",
            "GNB:  [1]\n",
            "LR:  [1]\n",
            "RFC:  [1]\n"
          ],
          "name": "stdout"
        }
      ]
    },
    {
      "cell_type": "markdown",
      "metadata": {
        "id": "kiEfHCfJiPYg",
        "colab_type": "text"
      },
      "source": [
        "# So sánh các model\n"
      ]
    },
    {
      "cell_type": "code",
      "metadata": {
        "id": "RcYDKMn6iWQP",
        "colab_type": "code",
        "colab": {
          "base_uri": "https://localhost:8080/",
          "height": 537
        },
        "outputId": "5afcb3a2-de5f-4105-c3fc-fb524ba69674"
      },
      "source": [
        "import matplotlib.pyplot as plt\n",
        "models_name = ['LSVC', 'GNB', 'LR', 'RFC']\n",
        "acc_train = [lsvc_train, gnb_train, lr_train, rfc_train]\n",
        "acc_test = [lsvc_test, gnb_test, lr_test, rfc_test]\n",
        "\n",
        "index = np.arange(4)\n",
        "width = 0.3\n",
        "plt.figure(figsize=(16,9))\n",
        "plt.bar(index, acc_train, width, color = 'g', label = 'Train')\n",
        "plt.bar(index+width, acc_test, width, color = 'b', label = 'Test')\n",
        "\n",
        "plt.ylabel = 'accuracy'\n",
        "plt.xlabel = 'algorithm'\n",
        "plt.xticks(index+width/2, models_name)\n",
        "\n",
        "plt.legend(loc='best')\n",
        "plt.show()"
      ],
      "execution_count": null,
      "outputs": [
        {
          "output_type": "display_data",
          "data": {
            "image/png": "[encoded data removed]",
            "text/plain": [
              "<Figure size 1152x648 with 1 Axes>"
            ]
          },
          "metadata": {
            "tags": [],
            "needs_background": "light"
          }
        }
      ]
    },
    {
      "cell_type": "markdown",
      "metadata": {
        "id": "FCEHjudO4LTN",
        "colab_type": "text"
      },
      "source": [
        "# Đánh Giá\n",
        "Các Models cho kết quả tương đối cao\n",
        "*   Random Forest Classifier cho kế quả tối nhất (Train: 0.988, Test: 0.914)\n",
        "*   Gaussuan Naive Bayes cho kế quả thấp nhất (Train: 0.839, Test: 0.7745)\n",
        "\n",
        "\n",
        "\n"
      ]
    }
  ]
}